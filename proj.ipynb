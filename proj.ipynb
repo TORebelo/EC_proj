{
 "cells": [
  {
   "cell_type": "markdown",
   "id": "b30a5c4e",
   "metadata": {},
   "source": [
    "Load the Data"
   ]
  },
  {
   "cell_type": "code",
   "execution_count": 1,
   "id": "9d0dcd02",
   "metadata": {},
   "outputs": [
    {
     "name": "stdout",
     "output_type": "stream",
     "text": [
      "Data loaded with shape: (100000, 21)\n"
     ]
    }
   ],
   "source": [
    "import pandas as pd\n",
    "import numpy as np\n",
    "from sklearn.model_selection import train_test_split\n",
    "from sklearn.preprocessing import StandardScaler\n",
    "from sklearn.impute import SimpleImputer\n",
    "from sklearn.pipeline import Pipeline\n",
    "from sklearn.compose import ColumnTransformer\n",
    "\n",
    "data = pd.read_csv('data/custom_covid19.csv') \n",
    "print(\"Data loaded with shape:\", data.shape)\n"
   ]
  },
  {
   "cell_type": "markdown",
   "id": "d159f494",
   "metadata": {},
   "source": [
    "##### 1. Create target variable"
   ]
  },
  {
   "cell_type": "code",
   "execution_count": 2,
   "id": "8a401ea3",
   "metadata": {},
   "outputs": [],
   "source": [
    "data['DIED'] = data['DATE_DIED'].apply(lambda x: 0 if x == '9999-99-99' else 1)\n"
   ]
  },
  {
   "cell_type": "markdown",
   "id": "01577827",
   "metadata": {},
   "source": [
    "##### 2. Mark missing values"
   ]
  },
  {
   "cell_type": "code",
   "execution_count": 3,
   "id": "3a677a38",
   "metadata": {},
   "outputs": [],
   "source": [
    "data.replace([97, 98, 99], np.nan, inplace=True)\n"
   ]
  },
  {
   "cell_type": "markdown",
   "id": "c38857dd",
   "metadata": {},
   "source": [
    "##### 3. Convert boolean variables"
   ]
  },
  {
   "cell_type": "code",
   "execution_count": 4,
   "id": "ed05d94c",
   "metadata": {},
   "outputs": [],
   "source": [
    "bool_cols = ['INTUBED', 'PNEUMONIA', 'PREGNANT', 'DIABETES', 'COPD', 'ASTHMA', \n",
    "             'INMSUPR', 'HYPERTENSION', 'OTHER_DISEASE', 'CARDIOVASCULAR', \n",
    "             'OBESITY', 'RENAL_CHRONIC', 'TOBACCO', 'ICU']\n",
    "data[bool_cols] = data[bool_cols].replace(2, 0)\n"
   ]
  },
  {
   "cell_type": "markdown",
   "id": "f6f08925",
   "metadata": {},
   "source": [
    "##### 4. Create COVID status feature"
   ]
  },
  {
   "cell_type": "code",
   "execution_count": 5,
   "id": "dda834cd",
   "metadata": {},
   "outputs": [],
   "source": [
    "data['COVID_POSITIVE'] = data['TEST_RESULT'].apply(lambda x: 1 if x in [1,2,3] else 0)"
   ]
  },
  {
   "cell_type": "markdown",
   "id": "fa9bb1ab",
   "metadata": {},
   "source": [
    "##### 5. Define features to keep/drop"
   ]
  },
  {
   "cell_type": "code",
   "execution_count": 6,
   "id": "42d4c4ad",
   "metadata": {},
   "outputs": [],
   "source": [
    "features_to_keep = ['USMER', 'MEDICAL_UNIT', 'SEX', 'PATIENT_TYPE', \n",
    "                   'INTUBED', 'PNEUMONIA', 'AGE', 'DIABETES', 'COPD',\n",
    "                   'ASTHMA', 'INMSUPR', 'HYPERTENSION', 'OTHER_DISEASE',\n",
    "                   'CARDIOVASCULAR', 'OBESITY', 'RENAL_CHRONIC', 'TOBACCO',\n",
    "                   'ICU', 'COVID_POSITIVE']\n",
    "\n",
    "# 6. Separate features and target\n",
    "X = data[features_to_keep]\n",
    "y = data['DIED']"
   ]
  },
  {
   "cell_type": "markdown",
   "id": "d143b8bb",
   "metadata": {},
   "source": [
    "##### 6. Define preprocessing pipeline"
   ]
  },
  {
   "cell_type": "code",
   "execution_count": 7,
   "id": "c1d9882a",
   "metadata": {},
   "outputs": [
    {
     "name": "stdout",
     "output_type": "stream",
     "text": [
      "Numeric features: ['AGE']\n",
      "Categorical features: ['USMER', 'MEDICAL_UNIT', 'SEX', 'PATIENT_TYPE', 'INTUBED', 'PNEUMONIA', 'DIABETES', 'COPD', 'ASTHMA', 'INMSUPR', 'HYPERTENSION', 'OTHER_DISEASE', 'CARDIOVASCULAR', 'OBESITY', 'RENAL_CHRONIC', 'TOBACCO', 'ICU']\n"
     ]
    }
   ],
   "source": [
    "numeric_features = ['AGE']\n",
    "categorical_features = [col for col in features_to_keep \n",
    "                       if col not in numeric_features + ['DIED', 'COVID_POSITIVE']]\n",
    "\n",
    "# Numeric pipeline (mean imputation + scaling)\n",
    "numeric_transformer = Pipeline([\n",
    "    ('imputer', SimpleImputer(strategy='mean')),\n",
    "    ('scaler', StandardScaler())\n",
    "])\n",
    "\n",
    "# Categorical pipeline (mode imputation)\n",
    "categorical_transformer = Pipeline([\n",
    "    ('imputer', SimpleImputer(strategy='most_frequent'))\n",
    "])\n",
    "\n",
    "# Combined preprocessor\n",
    "preprocessor = ColumnTransformer([\n",
    "    ('num', numeric_transformer, numeric_features),\n",
    "    ('cat', categorical_transformer, categorical_features)\n",
    "])\n",
    "\n",
    "# Verification\n",
    "print(\"Numeric features:\", numeric_features)\n",
    "print(\"Categorical features:\", categorical_features)"
   ]
  },
  {
   "cell_type": "markdown",
   "id": "5293cb08",
   "metadata": {},
   "source": [
    "##### 8. Train-test split\n",
    " \n",
    "Split the data into training and testing sets\n",
    "Stratified split to maintain the same distribution of the target variable in both sets"
   ]
  },
  {
   "cell_type": "code",
   "execution_count": 8,
   "id": "e62d2b95",
   "metadata": {},
   "outputs": [
    {
     "name": "stdout",
     "output_type": "stream",
     "text": [
      "Training set: (80000, 19), Test set: (20000, 19)\n",
      "Class distribution (train): DIED\n",
      "0    0.926625\n",
      "1    0.073375\n",
      "Name: proportion, dtype: float64\n"
     ]
    }
   ],
   "source": [
    "X_train, X_test, y_train, y_test = train_test_split(\n",
    "    X, y, test_size=0.2, random_state=42, stratify=y)\n",
    "\n",
    "print(f\"Training set: {X_train.shape}, Test set: {X_test.shape}\")\n",
    "print(f\"Class distribution (train): {pd.Series(y_train).value_counts(normalize=True)}\")\n"
   ]
  },
  {
   "cell_type": "markdown",
   "id": "640f8b9c",
   "metadata": {},
   "source": [
    "##### 9. Model Evaluation \n"
   ]
  },
  {
   "cell_type": "markdown",
   "id": "28fcfd7e",
   "metadata": {},
   "source": [
    "1. Model Evaluation Setup"
   ]
  },
  {
   "cell_type": "code",
   "execution_count": 9,
   "id": "f8d12708",
   "metadata": {},
   "outputs": [],
   "source": [
    "# We'll evaluate three baseline classifiers:\n",
    "# 1. Naive Bayes (probabilistic)\n",
    "# 2. K-Nearest Neighbors (instance-based)\n",
    "# 3. SVM with RBF kernel (maximum margin)\n",
    "\n",
    "import os\n",
    "from sklearn.pipeline import make_pipeline\n",
    "from sklearn.naive_bayes import GaussianNB\n",
    "from sklearn.neighbors import KNeighborsClassifier\n",
    "# from sklearn.svm import SVC\n",
    "from sklearn.svm import LinearSVC\n",
    "from sklearn.metrics import classification_report, confusion_matrix\n",
    "import matplotlib.pyplot as plt\n",
    "import seaborn as sns\n",
    "from IPython.display import display, Markdown\n",
    "\n",
    "# Visualization settings\n",
    "plt.style.use('seaborn-v0_8')\n",
    "plt.rcParams['figure.figsize'] = (8, 4)\n",
    "sns.set_palette(\"husl\")\n",
    "# Ensure 'figures' directory exists\n",
    "os.makedirs(\"figures\", exist_ok=True)"
   ]
  },
  {
   "cell_type": "markdown",
   "id": "39ae8afd",
   "metadata": {},
   "source": [
    "2. Evaluation Function"
   ]
  },
  {
   "cell_type": "code",
   "execution_count": 10,
   "id": "025c3025",
   "metadata": {},
   "outputs": [],
   "source": [
    "def evaluate_model(name, model, X_train, X_test, y_train, y_test):\n",
    "    \"\"\"\n",
    "    Evaluates a classification model and generates report-ready outputs.\n",
    "\n",
    "    Parameters:\n",
    "    - name: str, model name for display\n",
    "    - model: sklearn classifier object\n",
    "    - X_train, X_test, y_train, y_test: training/test data\n",
    "\n",
    "    Returns:\n",
    "    - Dictionary containing metrics and visualization paths\n",
    "    \"\"\"\n",
    "    # Create pipeline and fit model\n",
    "    clf = make_pipeline(preprocessor, model)\n",
    "    clf.fit(X_train, y_train)\n",
    "    \n",
    "    # Generate predictions\n",
    "    y_pred = clf.predict(X_test)\n",
    "    \n",
    "    # Create classification report and confusion matrix\n",
    "    report = classification_report(y_test, y_pred, output_dict=True)\n",
    "    cm = confusion_matrix(y_test, y_pred)\n",
    "    \n",
    "    # Create visualizations\n",
    "    fig, (ax1, ax2) = plt.subplots(1, 2, figsize=(12, 4))\n",
    "\n",
    "    # Confusion matrix heatmap\n",
    "    sns.heatmap(cm, annot=True, fmt='d', cmap='Blues', ax=ax1,\n",
    "                xticklabels=['Survived', 'Died'],\n",
    "                yticklabels=['Survived', 'Died'])\n",
    "    ax1.set_title(f'{name} Confusion Matrix')\n",
    "    ax1.set_xlabel('Predicted')\n",
    "    ax1.set_ylabel('Actual')\n",
    "\n",
    "    # Metrics bar plot\n",
    "    metrics = ['precision', 'recall', 'f1-score']\n",
    "    scores = [report['weighted avg'][m] for m in metrics]\n",
    "    sns.barplot(x=metrics, y=scores, ax=ax2)\n",
    "    ax2.set_title(f'{name} Performance Metrics')\n",
    "    ax2.set_ylim(0, 1)\n",
    "\n",
    "    # Save the figure\n",
    "    fig_path = f'figures/{name.lower().replace(\" \", \"_\")}_performance.png'\n",
    "    plt.tight_layout()\n",
    "    plt.savefig(fig_path)\n",
    "    plt.close()\n",
    "\n",
    "    # Display outputs in the notebook\n",
    "    display(Markdown(f\"## {name} Performance\"))\n",
    "    display(Markdown(\"### Classification Report\"))\n",
    "    print(classification_report(y_test, y_pred))\n",
    "\n",
    "    display(Markdown(\"### Confusion Matrix\"))\n",
    "    print(cm)\n",
    "\n",
    "    return {\n",
    "        'model': name,\n",
    "        'accuracy': report['accuracy'],\n",
    "        'precision': report['weighted avg']['precision'],\n",
    "        'recall': report['weighted avg']['recall'],\n",
    "        'f1': report['weighted avg']['f1-score'],\n",
    "        'figure_path': fig_path\n",
    "    }\n"
   ]
  },
  {
   "cell_type": "markdown",
   "id": "64e5aa60",
   "metadata": {},
   "source": [
    "3. Model Definitions"
   ]
  },
  {
   "cell_type": "code",
   "execution_count": 11,
   "id": "06bf13ca",
   "metadata": {},
   "outputs": [],
   "source": [
    "\n",
    "#### Baseline Model Definitions\n",
    "# We select three distinct algorithmic approaches:\n",
    "\n",
    "models = [\n",
    "    ('Naive Bayes', GaussianNB()),\n",
    "    ('K-Nearest Neighbors', KNeighborsClassifier(n_neighbors=5)),\n",
    "    ('Support Vector Machine', LinearSVC(random_state=42, class_weight='balanced'))  # Updated\n",
    "]"
   ]
  },
  {
   "cell_type": "markdown",
   "id": "d6d0ea17",
   "metadata": {},
   "source": [
    "4. Model Evaluation Execution"
   ]
  },
  {
   "cell_type": "code",
   "execution_count": 12,
   "id": "3710d9f1",
   "metadata": {},
   "outputs": [
    {
     "data": {
      "text/markdown": [
       "## Naive Bayes Performance"
      ],
      "text/plain": [
       "<IPython.core.display.Markdown object>"
      ]
     },
     "metadata": {},
     "output_type": "display_data"
    },
    {
     "data": {
      "text/markdown": [
       "### Classification Report"
      ],
      "text/plain": [
       "<IPython.core.display.Markdown object>"
      ]
     },
     "metadata": {},
     "output_type": "display_data"
    },
    {
     "name": "stdout",
     "output_type": "stream",
     "text": [
      "              precision    recall  f1-score   support\n",
      "\n",
      "           0       0.97      0.92      0.94     18532\n",
      "           1       0.40      0.70      0.51      1468\n",
      "\n",
      "    accuracy                           0.90     20000\n",
      "   macro avg       0.69      0.81      0.73     20000\n",
      "weighted avg       0.93      0.90      0.91     20000\n",
      "\n"
     ]
    },
    {
     "data": {
      "text/markdown": [
       "### Confusion Matrix"
      ],
      "text/plain": [
       "<IPython.core.display.Markdown object>"
      ]
     },
     "metadata": {},
     "output_type": "display_data"
    },
    {
     "name": "stdout",
     "output_type": "stream",
     "text": [
      "[[16969  1563]\n",
      " [  438  1030]]\n"
     ]
    },
    {
     "data": {
      "text/markdown": [
       "## K-Nearest Neighbors Performance"
      ],
      "text/plain": [
       "<IPython.core.display.Markdown object>"
      ]
     },
     "metadata": {},
     "output_type": "display_data"
    },
    {
     "data": {
      "text/markdown": [
       "### Classification Report"
      ],
      "text/plain": [
       "<IPython.core.display.Markdown object>"
      ]
     },
     "metadata": {},
     "output_type": "display_data"
    },
    {
     "name": "stdout",
     "output_type": "stream",
     "text": [
      "              precision    recall  f1-score   support\n",
      "\n",
      "           0       0.96      0.98      0.97     18532\n",
      "           1       0.62      0.48      0.54      1468\n",
      "\n",
      "    accuracy                           0.94     20000\n",
      "   macro avg       0.79      0.73      0.75     20000\n",
      "weighted avg       0.93      0.94      0.94     20000\n",
      "\n"
     ]
    },
    {
     "data": {
      "text/markdown": [
       "### Confusion Matrix"
      ],
      "text/plain": [
       "<IPython.core.display.Markdown object>"
      ]
     },
     "metadata": {},
     "output_type": "display_data"
    },
    {
     "name": "stdout",
     "output_type": "stream",
     "text": [
      "[[18100   432]\n",
      " [  770   698]]\n"
     ]
    },
    {
     "data": {
      "text/markdown": [
       "## Support Vector Machine Performance"
      ],
      "text/plain": [
       "<IPython.core.display.Markdown object>"
      ]
     },
     "metadata": {},
     "output_type": "display_data"
    },
    {
     "data": {
      "text/markdown": [
       "### Classification Report"
      ],
      "text/plain": [
       "<IPython.core.display.Markdown object>"
      ]
     },
     "metadata": {},
     "output_type": "display_data"
    },
    {
     "name": "stdout",
     "output_type": "stream",
     "text": [
      "              precision    recall  f1-score   support\n",
      "\n",
      "           0       0.99      0.89      0.94     18532\n",
      "           1       0.40      0.92      0.55      1468\n",
      "\n",
      "    accuracy                           0.89     20000\n",
      "   macro avg       0.70      0.90      0.75     20000\n",
      "weighted avg       0.95      0.89      0.91     20000\n",
      "\n"
     ]
    },
    {
     "data": {
      "text/markdown": [
       "### Confusion Matrix"
      ],
      "text/plain": [
       "<IPython.core.display.Markdown object>"
      ]
     },
     "metadata": {},
     "output_type": "display_data"
    },
    {
     "name": "stdout",
     "output_type": "stream",
     "text": [
      "[[16495  2037]\n",
      " [  122  1346]]\n"
     ]
    }
   ],
   "source": [
    "# === Evaluate All Baseline Models ===\n",
    "\n",
    "model_results = []\n",
    "\n",
    "for name, model in models:\n",
    "    result = evaluate_model(name, model, X_train, X_test, y_train, y_test)\n",
    "    model_results.append(result)\n"
   ]
  },
  {
   "cell_type": "markdown",
   "id": "a9f8706e",
   "metadata": {},
   "source": [
    "##### 10. Hyperparameter Optimization\n",
    "We implement systematic hyperparameter tuning for all three models using GridSearchCV (exhaustive search) to find optimal parameters."
   ]
  },
  {
   "cell_type": "markdown",
   "id": "8aeef901",
   "metadata": {},
   "source": [
    "A. Naive Bayes (GaussianNB)\n",
    "   "
   ]
  },
  {
   "cell_type": "code",
   "execution_count": 13,
   "id": "f9124c37",
   "metadata": {},
   "outputs": [],
   "source": [
    "param_grid_nb = {\n",
    "    'gaussiannb__var_smoothing': [1e-9, 1e-8, 1e-7]  # Note the stepname__param format\n",
    "}"
   ]
  },
  {
   "cell_type": "markdown",
   "id": "05b5cab2",
   "metadata": {},
   "source": [
    "B. K-Nearest Neighbors (KNN)"
   ]
  },
  {
   "cell_type": "code",
   "execution_count": 14,
   "id": "c7f7be90",
   "metadata": {},
   "outputs": [],
   "source": [
    "param_grid_knn = {\n",
    "    'kneighborsclassifier__n_neighbors': [3, 5, 7, 9],\n",
    "    'kneighborsclassifier__weights': ['uniform', 'distance'],\n",
    "    'kneighborsclassifier__p': [1, 2]\n",
    "}"
   ]
  },
  {
   "cell_type": "markdown",
   "id": "c7ec82ea",
   "metadata": {},
   "source": [
    "C. Support Vector Machine (SVM) //TODO"
   ]
  },
  {
   "cell_type": "code",
   "execution_count": 15,
   "id": "2d2eaeca",
   "metadata": {},
   "outputs": [],
   "source": [
    "# param_grid_svm = {\n",
    "#     'svc__C': [0.1, 1, 10],\n",
    "#     'svc__gamma': ['scale', 'auto', 0.01, 0.1],\n",
    "#     'svc__kernel': ['rbf']\n",
    "# }\n",
    "\n",
    "# param_grid_svm = {\n",
    "#     'svc__C': [1, 10],             # instead of a wider range\n",
    "#     'svc__gamma': [0.1, 0.01],     # fewer values\n",
    "#     'svc__kernel': ['rbf']\n",
    "# }\n",
    "\n",
    "\n",
    "# param_grid_svm = {\n",
    "#     'svc__base_estimator__C': [0.1, 1, 10],  \n",
    "#     'svc__base_estimator__max_iter': [1000, 2000]  \n",
    "# }\n",
    "\n",
    "param_grid_svm = {\n",
    "    'svc__C': [0.01, 0.1, 1, 10]  # Only tuning C for linear SVM\n",
    "}\n"
   ]
  },
  {
   "cell_type": "markdown",
   "id": "a9d2be46",
   "metadata": {},
   "source": [
    "##### 11. Implementation with Cross-Validation"
   ]
  },
  {
   "cell_type": "code",
   "execution_count": 16,
   "id": "57551403",
   "metadata": {},
   "outputs": [
    {
     "name": "stdout",
     "output_type": "stream",
     "text": [
      "Optimizing Naive Bayes...\n",
      "Fitting 5 folds for each of 3 candidates, totalling 15 fits\n",
      "Completed in 3.66s\n",
      "\n",
      "Optimizing KNN...\n",
      "Fitting 5 folds for each of 16 candidates, totalling 80 fits\n",
      "Completed in 82.04s\n",
      "\n",
      "Optimizing Linear SVC...\n",
      "Fitting 5 folds for each of 4 candidates, totalling 20 fits\n",
      "Completed in 1.86s\n",
      "\n",
      "Naive Bayes best params: {'gaussiannb__var_smoothing': 1e-09}\n",
      "KNN best params: {'kneighborsclassifier__n_neighbors': 9, 'kneighborsclassifier__p': 2, 'kneighborsclassifier__weights': 'uniform'}\n",
      "Linear SVC best params: {'svc__C': 0.01}\n"
     ]
    }
   ],
   "source": [
    "from sklearn.model_selection import GridSearchCV\n",
    "from sklearn.pipeline import Pipeline\n",
    "from sklearn.svm import LinearSVC\n",
    "# from sklearn.calibration import CalibratedClassifierCV\n",
    "\n",
    "# Create pipelines with preprocessing + model\n",
    "pipeline_nb = Pipeline([\n",
    "    ('preprocessor', preprocessor),\n",
    "    ('gaussiannb', GaussianNB())\n",
    "])\n",
    "\n",
    "pipeline_knn = Pipeline([\n",
    "    ('preprocessor', preprocessor),\n",
    "    ('kneighborsclassifier', KNeighborsClassifier())\n",
    "])\n",
    "\n",
    "\n",
    "pipeline_svm = Pipeline([\n",
    "    ('preprocessor', preprocessor),\n",
    "    ('svc', LinearSVC(random_state=42, class_weight='balanced'))  # Handles imbalance\n",
    "])\n",
    "\n",
    "# pipeline_svm = Pipeline([\n",
    "#     ('preprocessor', preprocessor),\n",
    "#     ('svc', SVC(probability=True, random_state=42))\n",
    "# ])\n",
    "\n",
    "# GridSearchCV setup with comprehensive parameter grids\n",
    "grid_nb = GridSearchCV(\n",
    "    pipeline_nb, \n",
    "    param_grid_nb, \n",
    "    cv=5, \n",
    "    scoring='f1_weighted',\n",
    "    n_jobs=-1,\n",
    "    verbose=1\n",
    ")\n",
    "\n",
    "grid_knn = GridSearchCV(\n",
    "    pipeline_knn, \n",
    "    param_grid_knn, \n",
    "    cv=5, \n",
    "    scoring='f1_weighted',\n",
    "    n_jobs=-1,\n",
    "    verbose=1\n",
    ")\n",
    "\n",
    "grid_svm = GridSearchCV(\n",
    "    pipeline_svm, \n",
    "    param_grid_svm, \n",
    "    cv=5, \n",
    "    scoring='f1_weighted',\n",
    "    n_jobs=-1,\n",
    "    verbose=1\n",
    ")\n",
    "\n",
    "# Fit models with timing\n",
    "import time\n",
    "\n",
    "print(\"Optimizing Naive Bayes...\")\n",
    "start = time.time()\n",
    "grid_nb.fit(X_train, y_train)\n",
    "print(f\"Completed in {time.time()-start:.2f}s\\n\")\n",
    "\n",
    "print(\"Optimizing KNN...\")\n",
    "start = time.time()\n",
    "grid_knn.fit(X_train, y_train)\n",
    "print(f\"Completed in {time.time()-start:.2f}s\\n\")\n",
    "\n",
    "print(\"Optimizing Linear SVC...\")\n",
    "start = time.time()\n",
    "grid_svm.fit(X_train, y_train)\n",
    "print(f\"Completed in {time.time()-start:.2f}s\\n\")\n",
    "\n",
    "# Display best parameters\n",
    "print(\"Naive Bayes best params:\", grid_nb.best_params_)\n",
    "print(\"KNN best params:\", grid_knn.best_params_)\n",
    "print(\"Linear SVC best params:\", grid_svm.best_params_)"
   ]
  },
  {
   "cell_type": "markdown",
   "id": "217dd932",
   "metadata": {},
   "source": [
    "##### 12. Valuation using DecisionTree \n"
   ]
  },
  {
   "cell_type": "code",
   "execution_count": 17,
   "id": "2babaf1e",
   "metadata": {},
   "outputs": [
    {
     "name": "stdout",
     "output_type": "stream",
     "text": [
      "Optimizing Decision Tree...\n",
      "Fitting 5 folds for each of 576 candidates, totalling 2880 fits\n",
      "Completed in 128.81s\n",
      "\n",
      "=== Decision Tree Performance ===\n",
      "\n",
      "Best Parameters:\n",
      "{'decisiontreeclassifier__criterion': 'entropy', 'decisiontreeclassifier__max_depth': 7, 'decisiontreeclassifier__max_features': None, 'decisiontreeclassifier__min_samples_leaf': 2, 'decisiontreeclassifier__min_samples_split': 10}\n",
      "\n",
      "Classification Report:\n",
      "              precision    recall  f1-score   support\n",
      "\n",
      "       Alive       0.96      0.99      0.97     18532\n",
      "        Died       0.73      0.42      0.53      1468\n",
      "\n",
      "    accuracy                           0.95     20000\n",
      "   macro avg       0.84      0.70      0.75     20000\n",
      "weighted avg       0.94      0.95      0.94     20000\n",
      "\n"
     ]
    },
    {
     "data": {
      "image/png": "[encoded data removed]",
      "text/plain": [
       "<Figure size 600x600 with 2 Axes>"
      ]
     },
     "metadata": {},
     "output_type": "display_data"
    }
   ],
   "source": [
    "from sklearn.tree import DecisionTreeClassifier\n",
    "from sklearn.metrics import classification_report, confusion_matrix\n",
    "import matplotlib.pyplot as plt\n",
    "import seaborn as sns\n",
    "\n",
    "pipeline_tree = Pipeline([\n",
    "    ('preprocessor', preprocessor),\n",
    "    ('decisiontreeclassifier', DecisionTreeClassifier(random_state=42))\n",
    "])\n",
    "\n",
    "# Expanded parameter grid for more thorough search\n",
    "param_grid_tree = {\n",
    "    'decisiontreeclassifier__max_depth': [3, 5, 7, 10, 15, None],\n",
    "    'decisiontreeclassifier__min_samples_split': [2, 5, 10, 20],\n",
    "    'decisiontreeclassifier__min_samples_leaf': [1, 2, 4, 8],\n",
    "    'decisiontreeclassifier__criterion': ['gini', 'entropy'],\n",
    "    'decisiontreeclassifier__max_features': ['sqrt', 'log2', None]\n",
    "}\n",
    "\n",
    "grid_tree = GridSearchCV(\n",
    "    pipeline_tree, \n",
    "    param_grid_tree, \n",
    "    cv=5, \n",
    "    scoring='f1_weighted',\n",
    "    n_jobs=-1,\n",
    "    verbose=1\n",
    ")\n",
    "\n",
    "print(\"Optimizing Decision Tree...\")\n",
    "start = time.time()\n",
    "grid_tree.fit(X_train, y_train)\n",
    "print(f\"Completed in {time.time()-start:.2f}s\\n\")\n",
    "\n",
    "# Evaluate on test set\n",
    "y_pred_tree = grid_tree.predict(X_test)\n",
    "\n",
    "# Detailed classification report\n",
    "print(\"=== Decision Tree Performance ===\")\n",
    "print(\"\\nBest Parameters:\")\n",
    "print(grid_tree.best_params_)\n",
    "\n",
    "print(\"\\nClassification Report:\")\n",
    "print(classification_report(y_test, y_pred_tree, target_names=[\"Alive\", \"Died\"]))\n",
    "\n",
    "# Confusion matrix visualization\n",
    "cm = confusion_matrix(y_test, y_pred_tree)\n",
    "plt.figure(figsize=(6,6))\n",
    "sns.heatmap(cm, annot=True, fmt='d', cmap='Blues',\n",
    "            xticklabels=[\"Alive\", \"Died\"],\n",
    "            yticklabels=[\"Alive\", \"Died\"])\n",
    "plt.title(\"Decision Tree Confusion Matrix\")\n",
    "plt.ylabel('True Label')\n",
    "plt.xlabel('Predicted Label')\n",
    "plt.show()"
   ]
  },
  {
   "cell_type": "markdown",
   "id": "ba1d7bf9",
   "metadata": {},
   "source": [
    "##### 13. Benchmark Models with Feature Importance Analysis\n"
   ]
  },
  {
   "cell_type": "code",
   "execution_count": 18,
   "id": "d1302aaa",
   "metadata": {},
   "outputs": [
    {
     "name": "stdout",
     "output_type": "stream",
     "text": [
      "\n",
      "=== Model Performance Comparison ===\n"
     ]
    },
    {
     "data": {
      "text/html": [
       "<style type=\"text/css\">\n",
       "#T_9ed0a_row0_col3, #T_9ed0a_row0_col4 {\n",
       "  background-color: #08306b;\n",
       "  color: #f1f1f1;\n",
       "}\n",
       "#T_9ed0a_row1_col3 {\n",
       "  background-color: #08488e;\n",
       "  color: #f1f1f1;\n",
       "}\n",
       "#T_9ed0a_row1_col4 {\n",
       "  background-color: #08458a;\n",
       "  color: #f1f1f1;\n",
       "}\n",
       "#T_9ed0a_row2_col3 {\n",
       "  background-color: #eaf2fb;\n",
       "  color: #000000;\n",
       "}\n",
       "#T_9ed0a_row2_col4 {\n",
       "  background-color: #d9e8f5;\n",
       "  color: #000000;\n",
       "}\n",
       "#T_9ed0a_row3_col3, #T_9ed0a_row3_col4 {\n",
       "  background-color: #f7fbff;\n",
       "  color: #000000;\n",
       "}\n",
       "</style>\n",
       "<table id=\"T_9ed0a\">\n",
       "  <thead>\n",
       "    <tr>\n",
       "      <th class=\"blank level0\" >&nbsp;</th>\n",
       "      <th id=\"T_9ed0a_level0_col0\" class=\"col_heading level0 col0\" >Model</th>\n",
       "      <th id=\"T_9ed0a_level0_col1\" class=\"col_heading level0 col1\" >Best Params</th>\n",
       "      <th id=\"T_9ed0a_level0_col2\" class=\"col_heading level0 col2\" >Train F1</th>\n",
       "      <th id=\"T_9ed0a_level0_col3\" class=\"col_heading level0 col3\" >Test F1</th>\n",
       "      <th id=\"T_9ed0a_level0_col4\" class=\"col_heading level0 col4\" >Test Accuracy</th>\n",
       "      <th id=\"T_9ed0a_level0_col5\" class=\"col_heading level0 col5\" >Test Precision</th>\n",
       "      <th id=\"T_9ed0a_level0_col6\" class=\"col_heading level0 col6\" >Test Recall</th>\n",
       "    </tr>\n",
       "  </thead>\n",
       "  <tbody>\n",
       "    <tr>\n",
       "      <th id=\"T_9ed0a_level0_row0\" class=\"row_heading level0 row0\" >3</th>\n",
       "      <td id=\"T_9ed0a_row0_col0\" class=\"data row0 col0\" >Decision Tree</td>\n",
       "      <td id=\"T_9ed0a_row0_col1\" class=\"data row0 col1\" >{'decisiontreeclassifier__criterion': 'entropy', 'decisiontreeclassifier__max_depth': 7, 'decisiontreeclassifier__max_features': None, 'decisiontreeclassifier__min_samples_leaf': 2, 'decisiontreeclassifier__min_samples_split': 10}</td>\n",
       "      <td id=\"T_9ed0a_row0_col2\" class=\"data row0 col2\" >0.938710</td>\n",
       "      <td id=\"T_9ed0a_row0_col3\" class=\"data row0 col3\" >0.939315</td>\n",
       "      <td id=\"T_9ed0a_row0_col4\" class=\"data row0 col4\" >0.946050</td>\n",
       "      <td id=\"T_9ed0a_row0_col5\" class=\"data row0 col5\" >0.939042</td>\n",
       "      <td id=\"T_9ed0a_row0_col6\" class=\"data row0 col6\" >0.946050</td>\n",
       "    </tr>\n",
       "    <tr>\n",
       "      <th id=\"T_9ed0a_level0_row1\" class=\"row_heading level0 row1\" >1</th>\n",
       "      <td id=\"T_9ed0a_row1_col0\" class=\"data row1 col0\" >KNN</td>\n",
       "      <td id=\"T_9ed0a_row1_col1\" class=\"data row1 col1\" >{'kneighborsclassifier__n_neighbors': 9, 'kneighborsclassifier__p': 2, 'kneighborsclassifier__weights': 'uniform'}</td>\n",
       "      <td id=\"T_9ed0a_row1_col2\" class=\"data row1 col2\" >0.937007</td>\n",
       "      <td id=\"T_9ed0a_row1_col3\" class=\"data row1 col3\" >0.936615</td>\n",
       "      <td id=\"T_9ed0a_row1_col4\" class=\"data row1 col4\" >0.941700</td>\n",
       "      <td id=\"T_9ed0a_row1_col5\" class=\"data row1 col5\" >0.934607</td>\n",
       "      <td id=\"T_9ed0a_row1_col6\" class=\"data row1 col6\" >0.941700</td>\n",
       "    </tr>\n",
       "    <tr>\n",
       "      <th id=\"T_9ed0a_level0_row2\" class=\"row_heading level0 row2\" >0</th>\n",
       "      <td id=\"T_9ed0a_row2_col0\" class=\"data row2 col0\" >Naive Bayes</td>\n",
       "      <td id=\"T_9ed0a_row2_col1\" class=\"data row2 col1\" >{'gaussiannb__var_smoothing': 1e-09}</td>\n",
       "      <td id=\"T_9ed0a_row2_col2\" class=\"data row2 col2\" >0.911047</td>\n",
       "      <td id=\"T_9ed0a_row2_col3\" class=\"data row2 col3\" >0.912242</td>\n",
       "      <td id=\"T_9ed0a_row2_col4\" class=\"data row2 col4\" >0.899950</td>\n",
       "      <td id=\"T_9ed0a_row2_col5\" class=\"data row2 col5\" >0.932441</td>\n",
       "      <td id=\"T_9ed0a_row2_col6\" class=\"data row2 col6\" >0.899950</td>\n",
       "    </tr>\n",
       "    <tr>\n",
       "      <th id=\"T_9ed0a_level0_row3\" class=\"row_heading level0 row3\" >2</th>\n",
       "      <td id=\"T_9ed0a_row3_col0\" class=\"data row3 col0\" >Linear SVC</td>\n",
       "      <td id=\"T_9ed0a_row3_col1\" class=\"data row3 col1\" >{'svc__C': 0.01}</td>\n",
       "      <td id=\"T_9ed0a_row3_col2\" class=\"data row3 col2\" >0.909695</td>\n",
       "      <td id=\"T_9ed0a_row3_col3\" class=\"data row3 col3\" >0.910308</td>\n",
       "      <td id=\"T_9ed0a_row3_col4\" class=\"data row3 col4\" >0.891900</td>\n",
       "      <td id=\"T_9ed0a_row3_col5\" class=\"data row3 col5\" >0.948974</td>\n",
       "      <td id=\"T_9ed0a_row3_col6\" class=\"data row3 col6\" >0.891900</td>\n",
       "    </tr>\n",
       "  </tbody>\n",
       "</table>\n"
      ],
      "text/plain": [
       "<pandas.io.formats.style.Styler at 0x2b323d73610>"
      ]
     },
     "metadata": {},
     "output_type": "display_data"
    },
    {
     "name": "stdout",
     "output_type": "stream",
     "text": [
      "Warning: Feature count mismatch (19 vs 18)\n"
     ]
    },
    {
     "name": "stderr",
     "output_type": "stream",
     "text": [
      "C:\\Users\\tor\\AppData\\Local\\Temp\\ipykernel_19692\\193463047.py:59: FutureWarning: \n",
      "\n",
      "Passing `palette` without assigning `hue` is deprecated and will be removed in v0.14.0. Assign the `y` variable to `hue` and set `legend=False` for the same effect.\n",
      "\n",
      "  sns.barplot(x='Importance', y='Feature', data=importance_df.head(10), palette='viridis')\n"
     ]
    },
    {
     "data": {
      "image/png": "[encoded data removed]",
      "text/plain": [
       "<Figure size 1200x600 with 1 Axes>"
      ]
     },
     "metadata": {},
     "output_type": "display_data"
    },
    {
     "name": "stdout",
     "output_type": "stream",
     "text": [
      "\n",
      "=== Key Findings from Feature Importance ===\n",
      "1. PATIENT_TYPE (hospitalization status) is the strongest predictor\n",
      "2. AGE is the second most important factor\n",
      "3. INTUBED (ventilator use) and PNEUMONIA are critical clinical indicators\n",
      "4. Other chronic conditions show relatively small but meaningful impact\n",
      "\n",
      "=== Complete Feature Importance ===\n"
     ]
    },
    {
     "data": {
      "text/html": [
       "<style type=\"text/css\">\n",
       "#T_0137d_row0_col1 {\n",
       "  background-color: #08306b;\n",
       "  color: #f1f1f1;\n",
       "}\n",
       "#T_0137d_row1_col1, #T_0137d_row2_col1 {\n",
       "  background-color: #d8e7f5;\n",
       "  color: #000000;\n",
       "}\n",
       "#T_0137d_row3_col1 {\n",
       "  background-color: #e4eff9;\n",
       "  color: #000000;\n",
       "}\n",
       "#T_0137d_row4_col1 {\n",
       "  background-color: #eff6fc;\n",
       "  color: #000000;\n",
       "}\n",
       "#T_0137d_row5_col1, #T_0137d_row6_col1, #T_0137d_row7_col1 {\n",
       "  background-color: #f6faff;\n",
       "  color: #000000;\n",
       "}\n",
       "#T_0137d_row8_col1, #T_0137d_row9_col1, #T_0137d_row10_col1, #T_0137d_row11_col1, #T_0137d_row12_col1, #T_0137d_row13_col1, #T_0137d_row14_col1, #T_0137d_row15_col1, #T_0137d_row16_col1, #T_0137d_row17_col1 {\n",
       "  background-color: #f7fbff;\n",
       "  color: #000000;\n",
       "}\n",
       "</style>\n",
       "<table id=\"T_0137d\">\n",
       "  <thead>\n",
       "    <tr>\n",
       "      <th class=\"blank level0\" >&nbsp;</th>\n",
       "      <th id=\"T_0137d_level0_col0\" class=\"col_heading level0 col0\" >Feature</th>\n",
       "      <th id=\"T_0137d_level0_col1\" class=\"col_heading level0 col1\" >Importance</th>\n",
       "    </tr>\n",
       "  </thead>\n",
       "  <tbody>\n",
       "    <tr>\n",
       "      <th id=\"T_0137d_level0_row0\" class=\"row_heading level0 row0\" >4</th>\n",
       "      <td id=\"T_0137d_row0_col0\" class=\"data row0 col0\" >PATIENT_TYPE</td>\n",
       "      <td id=\"T_0137d_row0_col1\" class=\"data row0 col1\" >0.677682</td>\n",
       "    </tr>\n",
       "    <tr>\n",
       "      <th id=\"T_0137d_level0_row1\" class=\"row_heading level0 row1\" >0</th>\n",
       "      <td id=\"T_0137d_row1_col0\" class=\"data row1 col0\" >AGE</td>\n",
       "      <td id=\"T_0137d_row1_col1\" class=\"data row1 col1\" >0.107287</td>\n",
       "    </tr>\n",
       "    <tr>\n",
       "      <th id=\"T_0137d_level0_row2\" class=\"row_heading level0 row2\" >5</th>\n",
       "      <td id=\"T_0137d_row2_col0\" class=\"data row2 col0\" >INTUBED</td>\n",
       "      <td id=\"T_0137d_row2_col1\" class=\"data row2 col1\" >0.106017</td>\n",
       "    </tr>\n",
       "    <tr>\n",
       "      <th id=\"T_0137d_level0_row3\" class=\"row_heading level0 row3\" >6</th>\n",
       "      <td id=\"T_0137d_row3_col0\" class=\"data row3 col0\" >PNEUMONIA</td>\n",
       "      <td id=\"T_0137d_row3_col1\" class=\"data row3 col1\" >0.066012</td>\n",
       "    </tr>\n",
       "    <tr>\n",
       "      <th id=\"T_0137d_level0_row4\" class=\"row_heading level0 row4\" >2</th>\n",
       "      <td id=\"T_0137d_row4_col0\" class=\"data row4 col0\" >MEDICAL_UNIT</td>\n",
       "      <td id=\"T_0137d_row4_col1\" class=\"data row4 col1\" >0.026477</td>\n",
       "    </tr>\n",
       "    <tr>\n",
       "      <th id=\"T_0137d_level0_row5\" class=\"row_heading level0 row5\" >3</th>\n",
       "      <td id=\"T_0137d_row5_col0\" class=\"data row5 col0\" >SEX</td>\n",
       "      <td id=\"T_0137d_row5_col1\" class=\"data row5 col1\" >0.003967</td>\n",
       "    </tr>\n",
       "    <tr>\n",
       "      <th id=\"T_0137d_level0_row6\" class=\"row_heading level0 row6\" >7</th>\n",
       "      <td id=\"T_0137d_row6_col0\" class=\"data row6 col0\" >DIABETES</td>\n",
       "      <td id=\"T_0137d_row6_col1\" class=\"data row6 col1\" >0.003248</td>\n",
       "    </tr>\n",
       "    <tr>\n",
       "      <th id=\"T_0137d_level0_row7\" class=\"row_heading level0 row7\" >17</th>\n",
       "      <td id=\"T_0137d_row7_col0\" class=\"data row7 col0\" >ICU</td>\n",
       "      <td id=\"T_0137d_row7_col1\" class=\"data row7 col1\" >0.003141</td>\n",
       "    </tr>\n",
       "    <tr>\n",
       "      <th id=\"T_0137d_level0_row8\" class=\"row_heading level0 row8\" >15</th>\n",
       "      <td id=\"T_0137d_row8_col0\" class=\"data row8 col0\" >RENAL_CHRONIC</td>\n",
       "      <td id=\"T_0137d_row8_col1\" class=\"data row8 col1\" >0.002150</td>\n",
       "    </tr>\n",
       "    <tr>\n",
       "      <th id=\"T_0137d_level0_row9\" class=\"row_heading level0 row9\" >11</th>\n",
       "      <td id=\"T_0137d_row9_col0\" class=\"data row9 col0\" >HYPERTENSION</td>\n",
       "      <td id=\"T_0137d_row9_col1\" class=\"data row9 col1\" >0.001654</td>\n",
       "    </tr>\n",
       "    <tr>\n",
       "      <th id=\"T_0137d_level0_row10\" class=\"row_heading level0 row10\" >14</th>\n",
       "      <td id=\"T_0137d_row10_col0\" class=\"data row10 col0\" >OBESITY</td>\n",
       "      <td id=\"T_0137d_row10_col1\" class=\"data row10 col1\" >0.000939</td>\n",
       "    </tr>\n",
       "    <tr>\n",
       "      <th id=\"T_0137d_level0_row11\" class=\"row_heading level0 row11\" >9</th>\n",
       "      <td id=\"T_0137d_row11_col0\" class=\"data row11 col0\" >ASTHMA</td>\n",
       "      <td id=\"T_0137d_row11_col1\" class=\"data row11 col1\" >0.000500</td>\n",
       "    </tr>\n",
       "    <tr>\n",
       "      <th id=\"T_0137d_level0_row12\" class=\"row_heading level0 row12\" >1</th>\n",
       "      <td id=\"T_0137d_row12_col0\" class=\"data row12 col0\" >USMER</td>\n",
       "      <td id=\"T_0137d_row12_col1\" class=\"data row12 col1\" >0.000467</td>\n",
       "    </tr>\n",
       "    <tr>\n",
       "      <th id=\"T_0137d_level0_row13\" class=\"row_heading level0 row13\" >16</th>\n",
       "      <td id=\"T_0137d_row13_col0\" class=\"data row13 col0\" >TOBACCO</td>\n",
       "      <td id=\"T_0137d_row13_col1\" class=\"data row13 col1\" >0.000133</td>\n",
       "    </tr>\n",
       "    <tr>\n",
       "      <th id=\"T_0137d_level0_row14\" class=\"row_heading level0 row14\" >10</th>\n",
       "      <td id=\"T_0137d_row14_col0\" class=\"data row14 col0\" >INMSUPR</td>\n",
       "      <td id=\"T_0137d_row14_col1\" class=\"data row14 col1\" >0.000132</td>\n",
       "    </tr>\n",
       "    <tr>\n",
       "      <th id=\"T_0137d_level0_row15\" class=\"row_heading level0 row15\" >12</th>\n",
       "      <td id=\"T_0137d_row15_col0\" class=\"data row15 col0\" >OTHER_DISEASE</td>\n",
       "      <td id=\"T_0137d_row15_col1\" class=\"data row15 col1\" >0.000099</td>\n",
       "    </tr>\n",
       "    <tr>\n",
       "      <th id=\"T_0137d_level0_row16\" class=\"row_heading level0 row16\" >13</th>\n",
       "      <td id=\"T_0137d_row16_col0\" class=\"data row16 col0\" >CARDIOVASCULAR</td>\n",
       "      <td id=\"T_0137d_row16_col1\" class=\"data row16 col1\" >0.000093</td>\n",
       "    </tr>\n",
       "    <tr>\n",
       "      <th id=\"T_0137d_level0_row17\" class=\"row_heading level0 row17\" >8</th>\n",
       "      <td id=\"T_0137d_row17_col0\" class=\"data row17 col0\" >COPD</td>\n",
       "      <td id=\"T_0137d_row17_col1\" class=\"data row17 col1\" >0.000000</td>\n",
       "    </tr>\n",
       "  </tbody>\n",
       "</table>\n"
      ],
      "text/plain": [
       "<pandas.io.formats.style.Styler at 0x2b323edbcd0>"
      ]
     },
     "metadata": {},
     "output_type": "display_data"
    },
    {
     "data": {
      "image/png": "[encoded data removed]",
      "text/plain": [
       "<Figure size 600x600 with 2 Axes>"
      ]
     },
     "metadata": {},
     "output_type": "display_data"
    },
    {
     "name": "stdout",
     "output_type": "stream",
     "text": [
      "\n",
      "=== Best Performing Model: Decision Tree ===\n",
      "Considerations for model selection:\n",
      "- Clinical interpretability of decision trees\n",
      "- Importance of understanding feature relationships\n",
      "- Good balance between performance and complexity\n"
     ]
    }
   ],
   "source": [
    "\n",
    "\n",
    "from sklearn.metrics import f1_score\n",
    "import pandas as pd\n",
    "import matplotlib.pyplot as plt\n",
    "import seaborn as sns\n",
    "\n",
    "# 1. Model Evaluation Function\n",
    "def evaluate_model(grid, name, X_test, y_test):\n",
    "    y_pred = grid.predict(X_test)\n",
    "    report = classification_report(y_test, y_pred, output_dict=True)\n",
    "    return {\n",
    "        'Model': name,\n",
    "        'Best Params': str(grid.best_params_),\n",
    "        'Train F1': grid.best_score_,\n",
    "        'Test F1': f1_score(y_test, y_pred, average='weighted'),\n",
    "        'Test Accuracy': report['accuracy'],\n",
    "        'Test Precision': report['weighted avg']['precision'],\n",
    "        'Test Recall': report['weighted avg']['recall']\n",
    "    }\n",
    "\n",
    "# 2. Evaluate All Models\n",
    "results = [\n",
    "    evaluate_model(grid_nb, \"Naive Bayes\", X_test, y_test),\n",
    "    evaluate_model(grid_knn, \"KNN\", X_test, y_test),\n",
    "    evaluate_model(grid_svm, \"Linear SVC\", X_test, y_test),\n",
    "    evaluate_model(grid_tree, \"Decision Tree\", X_test, y_test)\n",
    "]\n",
    "\n",
    "# 3. Results Comparison\n",
    "results_df = pd.DataFrame(results).sort_values('Test F1', ascending=False)\n",
    "print(\"\\n=== Model Performance Comparison ===\")\n",
    "display(results_df.style.background_gradient(cmap='Blues', subset=['Test F1', 'Test Accuracy']))\n",
    "\n",
    "# 4. Feature Importance Analysis (for Tree-based Models)\n",
    "if 'Decision Tree' in results_df['Model'].values:\n",
    "    # Get the trained model and preprocessor\n",
    "    best_tree = grid_tree.best_estimator_.named_steps['decisiontreeclassifier']\n",
    "    \n",
    "    # Get original feature names (before any transformations)\n",
    "    feature_names = X_train.columns.tolist()\n",
    "    \n",
    "    # Verify lengths match\n",
    "    if len(feature_names) != len(best_tree.feature_importances_):\n",
    "        print(f\"Warning: Feature count mismatch ({len(feature_names)} vs {len(best_tree.feature_importances_)})\")\n",
    "        feature_names = [f'feature_{i}' for i in range(len(best_tree.feature_importances_))]\n",
    "\n",
    "    # Extract feature names after preprocessing\n",
    "    num_features = numeric_features  # list of numerical feature names\n",
    "    cat_features = categorical_features  # use the original categorical feature names\n",
    "    feature_names = list(num_features) + list(cat_features)\n",
    "    \n",
    "    # Create importance DataFrame\n",
    "    importance_df = pd.DataFrame({\n",
    "        'Feature': feature_names,\n",
    "        'Importance': best_tree.feature_importances_\n",
    "    }).sort_values('Importance', ascending=False)\n",
    "    \n",
    "    # Visualize top 10 features\n",
    "    plt.figure(figsize=(12, 6))\n",
    "    sns.barplot(x='Importance', y='Feature', data=importance_df.head(10), palette='viridis')\n",
    "    plt.title('Top 10 Predictive Features for Mortality', fontsize=14)\n",
    "    plt.xlabel('Relative Importance', fontsize=12)\n",
    "    plt.ylabel('Feature', fontsize=12)\n",
    "    plt.tight_layout()\n",
    "    plt.show()\n",
    "    \n",
    "    # Interpretation of Key Features\n",
    "    print(\"\\n=== Key Findings from Feature Importance ===\")\n",
    "    print(\"1. PATIENT_TYPE (hospitalization status) is the strongest predictor\")\n",
    "    print(\"2. AGE is the second most important factor\")\n",
    "    print(\"3. INTUBED (ventilator use) and PNEUMONIA are critical clinical indicators\")\n",
    "    print(\"4. Other chronic conditions show relatively small but meaningful impact\")\n",
    "    \n",
    "    # Display full importance table\n",
    "    print(\"\\n=== Complete Feature Importance ===\")\n",
    "    display(importance_df.style.background_gradient(cmap='Blues', subset=['Importance']))\n",
    "\n",
    "# 5. Confusion Matrix for Best Model\n",
    "best_model_name = results_df.iloc[0]['Model']\n",
    "best_model = {\n",
    "    \"Naive Bayes\": grid_nb,\n",
    "    \"KNN\": grid_knn,\n",
    "    \"Linear SVC\": grid_svm,\n",
    "    \"Decision Tree\": grid_tree\n",
    "}[best_model_name]\n",
    "\n",
    "y_pred = best_model.predict(X_test)\n",
    "cm = confusion_matrix(y_test, y_pred)\n",
    "\n",
    "plt.figure(figsize=(6, 6))\n",
    "sns.heatmap(cm, annot=True, fmt='d', cmap='Reds',\n",
    "            xticklabels=['Survived', 'Died'],\n",
    "            yticklabels=['Survived', 'Died'])\n",
    "plt.title(f'{best_model_name} - Confusion Matrix', fontsize=14)\n",
    "plt.ylabel('Actual', fontsize=12)\n",
    "plt.xlabel('Predicted', fontsize=12)\n",
    "plt.show()\n",
    "\n",
    "# 6. Final Model Selection\n",
    "print(f\"\\n=== Best Performing Model: {best_model_name} ===\")\n",
    "print(\"Considerations for model selection:\")\n",
    "print(\"- Clinical interpretability of decision trees\")\n",
    "print(\"- Importance of understanding feature relationships\")\n",
    "print(\"- Good balance between performance and complexity\")"
   ]
  },
  {
   "cell_type": "markdown",
   "id": "c1e8cfe1",
   "metadata": {},
   "source": [
    "## Objective 2 (O2): Age Prediction\n",
    "**Goal**: Predict the AGE of subjects given other attributes  \n",
    "**Approach**:  \n",
    "- Treat as a regression problem  \n",
    "- Evaluate different regression models  \n",
    "- Optimize hyperparameters  \n",
    "- Analyze feature importance"
   ]
  },
  {
   "cell_type": "markdown",
   "id": "f84bf03f",
   "metadata": {},
   "source": [
    "\n",
    "Import necessary libraries\n"
   ]
  },
  {
   "cell_type": "code",
   "execution_count": 19,
   "id": "b91f9cde",
   "metadata": {},
   "outputs": [],
   "source": [
    "from sklearn.ensemble import RandomForestRegressor\n",
    "from sklearn.linear_model import LinearRegression\n",
    "from sklearn.svm import SVR\n",
    "from sklearn.metrics import mean_absolute_error, mean_squared_error, r2_score\n",
    "import numpy as np"
   ]
  },
  {
   "cell_type": "markdown",
   "id": "d1caffa4",
   "metadata": {},
   "source": [
    "##### 1. Prepare Data for Age Prediction"
   ]
  },
  {
   "cell_type": "code",
   "execution_count": 20,
   "id": "d63dc9b6",
   "metadata": {},
   "outputs": [],
   "source": [
    "data = data[data['AGE'].notna()].copy()  # Drop rows with missing AGE\n",
    "\n",
    "# We'll use the same preprocessing pipeline but change the target to AGE\n",
    "features_to_keep = ['USMER', 'MEDICAL_UNIT', 'SEX', 'PATIENT_TYPE', \n",
    "                   'INTUBED', 'PNEUMONIA', 'DIABETES', 'COPD',\n",
    "                   'ASTHMA', 'INMSUPR', 'HYPERTENSION', 'OTHER_DISEASE',\n",
    "                   'CARDIOVASCULAR', 'OBESITY', 'RENAL_CHRONIC', 'TOBACCO',\n",
    "                   'ICU', 'COVID_POSITIVE']\n",
    "\n",
    "X_age = data[features_to_keep]\n",
    "y_age = data['AGE']  # Target is now AGE\n",
    "\n",
    "# Train-test split\n",
    "X_train_age, X_test_age, y_train_age, y_test_age = train_test_split(\n",
    "    X_age, y_age, test_size=0.2, random_state=42)"
   ]
  },
  {
   "cell_type": "markdown",
   "id": "ab694c43",
   "metadata": {},
   "source": [
    "\n",
    "##### 2. Define Preprocessing Pipeline\n",
    "Similar to O1 but adapted for regression"
   ]
  },
  {
   "cell_type": "code",
   "execution_count": 21,
   "id": "184e802c",
   "metadata": {},
   "outputs": [],
   "source": [
    "# Identify feature types\n",
    "numeric_features_age = []  # No numeric features besides AGE (our target)\n",
    "# if binari Covid\n",
    "# numeric_features_age = ['COVID_POSITIVE']\n",
    "# categorical_features_age = [col for col in features_to_keep if col not in numeric_features_age]\n",
    "categorical_features_age = [col for col in features_to_keep if col != 'COVID_POSITIVE']\n",
    "\n",
    "\n",
    "# Preprocessing pipeline\n",
    "numeric_transformer_age = Pipeline([\n",
    "    ('imputer', SimpleImputer(strategy='mean'))\n",
    "])\n",
    "\n",
    "categorical_transformer_age = Pipeline([\n",
    "    ('imputer', SimpleImputer(strategy='most_frequent'))\n",
    "])\n",
    "\n",
    "preprocessor_age = ColumnTransformer([\n",
    "    ('num', numeric_transformer_age, numeric_features_age),\n",
    "    ('cat', categorical_transformer_age, categorical_features_age)\n",
    "])"
   ]
  },
  {
   "cell_type": "markdown",
   "id": "437cf7f6",
   "metadata": {},
   "source": [
    "##### 3. Baseline Regression Mode\n",
    "\n",
    "Let's test three different approaches"
   ]
  },
  {
   "cell_type": "code",
   "execution_count": 22,
   "id": "bf8e744c",
   "metadata": {},
   "outputs": [
    {
     "name": "stdout",
     "output_type": "stream",
     "text": [
      "\n",
      "=== Linear Regression ===\n",
      "MAE: 11.45\n",
      "RMSE: 14.71\n",
      "R2: 0.24\n",
      "\n",
      "=== Random Forest ===\n",
      "MAE: 11.40\n",
      "RMSE: 14.69\n",
      "R2: 0.25\n",
      "\n",
      "=== Support Vector Regression ===\n",
      "MAE: 11.38\n",
      "RMSE: 14.69\n",
      "R2: 0.25\n"
     ]
    }
   ],
   "source": [
    "# Define models to evaluate\n",
    "models_age = [\n",
    "    ('Linear Regression', LinearRegression()),\n",
    "    ('Random Forest', RandomForestRegressor(random_state=42)),\n",
    "    ('Support Vector Regression', SVR())\n",
    "]\n",
    "\n",
    "# Evaluate each model\n",
    "for name, model in models_age:\n",
    "    # Create pipeline\n",
    "    pipeline = Pipeline([\n",
    "        ('preprocessor', preprocessor_age),\n",
    "        ('regressor', model)\n",
    "    ])\n",
    "    \n",
    "    # Fit and predict\n",
    "    pipeline.fit(X_train_age, y_train_age)\n",
    "    y_pred = pipeline.predict(X_test_age)\n",
    "    \n",
    "    # Calculate metrics\n",
    "    mae = mean_absolute_error(y_test_age, y_pred)\n",
    "    rmse = np.sqrt(mean_squared_error(y_test_age, y_pred))\n",
    "    r2 = r2_score(y_test_age, y_pred)\n",
    "    \n",
    "    print(f\"\\n=== {name} ===\")\n",
    "    print(f\"MAE: {mae:.2f}\")\n",
    "    print(f\"RMSE: {rmse:.2f}\")\n",
    "    print(f\"R2: {r2:.2f}\")"
   ]
  },
  {
   "cell_type": "markdown",
   "id": "33126945",
   "metadata": {},
   "source": [
    "##### 4. Hyperparameter Optimization for Best Model\n",
    "\n",
    "Based on initial results, let's optimize RandomForest"
   ]
  },
  {
   "cell_type": "code",
   "execution_count": 23,
   "id": "3ad66bed",
   "metadata": {},
   "outputs": [
    {
     "name": "stdout",
     "output_type": "stream",
     "text": [
      "Starting Random Forest optimization...\n",
      "Fitting 5 folds for each of 36 candidates, totalling 180 fits\n",
      "Optimization completed!\n",
      "\n",
      "Best parameters: {'regressor__max_depth': 10, 'regressor__min_samples_split': 10, 'regressor__n_estimators': 200}\n"
     ]
    }
   ],
   "source": [
    "# Define pipeline for optimization\n",
    "pipeline_rf = Pipeline([\n",
    "    ('preprocessor', preprocessor_age),\n",
    "    ('regressor', RandomForestRegressor(random_state=42))\n",
    "])\n",
    "\n",
    "# Parameter grid\n",
    "param_grid_rf = {\n",
    "    'regressor__n_estimators': [50, 100, 200],\n",
    "    'regressor__max_depth': [None, 10, 20, 30],\n",
    "    'regressor__min_samples_split': [2, 5, 10]\n",
    "}\n",
    "\n",
    "# Grid search\n",
    "grid_rf = GridSearchCV(\n",
    "    pipeline_rf,\n",
    "    param_grid_rf,\n",
    "    cv=5,\n",
    "    scoring='neg_mean_absolute_error',\n",
    "    n_jobs=-1,\n",
    "    verbose=1\n",
    ")\n",
    "\n",
    "print(\"Starting Random Forest optimization...\")\n",
    "grid_rf.fit(X_train_age, y_train_age)\n",
    "print(\"Optimization completed!\")\n",
    "\n",
    "# Show best parameters\n",
    "print(\"\\nBest parameters:\", grid_rf.best_params_)"
   ]
  },
  {
   "cell_type": "markdown",
   "id": "4774dee5",
   "metadata": {},
   "source": [
    "##### 5. Evaluate Optimized Model\n",
    "\n"
   ]
  },
  {
   "cell_type": "code",
   "execution_count": 24,
   "id": "861341f6",
   "metadata": {},
   "outputs": [
    {
     "name": "stdout",
     "output_type": "stream",
     "text": [
      "\n",
      "=== Optimized Random Forest ===\n",
      "MAE: 11.25 years\n",
      "RMSE: 14.47 years\n",
      "R2: 0.27\n"
     ]
    },
    {
     "data": {
      "image/png": "[encoded data removed]",
      "text/plain": [
       "<Figure size 800x600 with 1 Axes>"
      ]
     },
     "metadata": {},
     "output_type": "display_data"
    }
   ],
   "source": [
    "# Get best model\n",
    "best_rf = grid_rf.best_estimator_\n",
    "\n",
    "# Make predictions\n",
    "y_pred_rf = best_rf.predict(X_test_age)\n",
    "\n",
    "# Calculate metrics\n",
    "mae = mean_absolute_error(y_test_age, y_pred_rf)\n",
    "rmse = np.sqrt(mean_squared_error(y_test_age, y_pred_rf))\n",
    "r2 = r2_score(y_test_age, y_pred_rf)\n",
    "\n",
    "print(\"\\n=== Optimized Random Forest ===\")\n",
    "print(f\"MAE: {mae:.2f} years\")\n",
    "print(f\"RMSE: {rmse:.2f} years\")\n",
    "print(f\"R2: {r2:.2f}\")\n",
    "\n",
    "# Visualize predictions vs actual\n",
    "plt.figure(figsize=(8, 6))\n",
    "plt.scatter(y_test_age, y_pred_rf, alpha=0.3)\n",
    "plt.plot([y_test_age.min(), y_test_age.max()], \n",
    "         [y_test_age.min(), y_test_age.max()], 'r--')\n",
    "plt.xlabel('Actual Age')\n",
    "plt.ylabel('Predicted Age')\n",
    "plt.title('Actual vs Predicted Age')\n",
    "plt.show()\n"
   ]
  },
  {
   "cell_type": "markdown",
   "id": "a701a28b",
   "metadata": {},
   "source": [
    "##### 6. Feature Importance Analysis"
   ]
  },
  {
   "cell_type": "code",
   "execution_count": 25,
   "id": "9d4ff8ab",
   "metadata": {},
   "outputs": [
    {
     "data": {
      "image/png": "[encoded data removed]",
      "text/plain": [
       "<Figure size 1000x600 with 1 Axes>"
      ]
     },
     "metadata": {},
     "output_type": "display_data"
    },
    {
     "name": "stdout",
     "output_type": "stream",
     "text": [
      "\n",
      "Top 5 Features Predicting Age:\n"
     ]
    },
    {
     "data": {
      "text/html": [
       "<div>\n",
       "<style scoped>\n",
       "    .dataframe tbody tr th:only-of-type {\n",
       "        vertical-align: middle;\n",
       "    }\n",
       "\n",
       "    .dataframe tbody tr th {\n",
       "        vertical-align: top;\n",
       "    }\n",
       "\n",
       "    .dataframe thead th {\n",
       "        text-align: right;\n",
       "    }\n",
       "</style>\n",
       "<table border=\"1\" class=\"dataframe\">\n",
       "  <thead>\n",
       "    <tr style=\"text-align: right;\">\n",
       "      <th></th>\n",
       "      <th>Feature</th>\n",
       "      <th>Importance</th>\n",
       "    </tr>\n",
       "  </thead>\n",
       "  <tbody>\n",
       "    <tr>\n",
       "      <th>10</th>\n",
       "      <td>HYPERTENSION</td>\n",
       "      <td>0.519236</td>\n",
       "    </tr>\n",
       "    <tr>\n",
       "      <th>6</th>\n",
       "      <td>DIABETES</td>\n",
       "      <td>0.136434</td>\n",
       "    </tr>\n",
       "    <tr>\n",
       "      <th>3</th>\n",
       "      <td>PATIENT_TYPE</td>\n",
       "      <td>0.112017</td>\n",
       "    </tr>\n",
       "    <tr>\n",
       "      <th>5</th>\n",
       "      <td>PNEUMONIA</td>\n",
       "      <td>0.060861</td>\n",
       "    </tr>\n",
       "    <tr>\n",
       "      <th>1</th>\n",
       "      <td>MEDICAL_UNIT</td>\n",
       "      <td>0.043749</td>\n",
       "    </tr>\n",
       "  </tbody>\n",
       "</table>\n",
       "</div>"
      ],
      "text/plain": [
       "         Feature  Importance\n",
       "10  HYPERTENSION    0.519236\n",
       "6       DIABETES    0.136434\n",
       "3   PATIENT_TYPE    0.112017\n",
       "5      PNEUMONIA    0.060861\n",
       "1   MEDICAL_UNIT    0.043749"
      ]
     },
     "metadata": {},
     "output_type": "display_data"
    }
   ],
   "source": [
    "from sklearn.compose import make_column_selector as selector\n",
    "# Get feature importances\n",
    "if hasattr(best_rf.named_steps['regressor'], 'feature_importances_'):\n",
    "    # Get feature names after preprocessing\n",
    "    feature_names = categorical_features_age  # Should match the number of importances\n",
    "    \n",
    "    importances = best_rf.named_steps['regressor'].feature_importances_\n",
    "    \n",
    "    # Create importance DataFrame\n",
    "    importance_df = pd.DataFrame({\n",
    "        'Feature': feature_names,\n",
    "        'Importance': importances\n",
    "    }).sort_values('Importance', ascending=False)\n",
    "    \n",
    "    # Plot\n",
    "    plt.figure(figsize=(10, 6))\n",
    "    sns.barplot(x='Importance', y='Feature', data=importance_df)\n",
    "    plt.title('Feature Importance for Age Prediction')\n",
    "    plt.show()\n",
    "    \n",
    "    print(\"\\nTop 5 Features Predicting Age:\")\n",
    "    display(importance_df.head(5))"
   ]
  },
  {
   "cell_type": "markdown",
   "id": "50a35588",
   "metadata": {},
   "source": [
    "##### 7. Final Model Selection and Saving"
   ]
  },
  {
   "cell_type": "code",
   "execution_count": 26,
   "id": "74abe730",
   "metadata": {},
   "outputs": [
    {
     "name": "stdout",
     "output_type": "stream",
     "text": [
      "Best age prediction model saved as 'best_age_predictor.pkl'\n"
     ]
    }
   ],
   "source": [
    "\n",
    "# Save the best model\n",
    "import joblib\n",
    "\n",
    "joblib.dump(best_rf, 'best_age_predictor.pkl')\n",
    "print(\"Best age prediction model saved as 'best_age_predictor.pkl'\")\n",
    "# Load the model\n",
    "loaded_model = joblib.load('best_age_predictor.pkl')\n"
   ]
  },
  {
   "cell_type": "markdown",
   "id": "f62c5d9e",
   "metadata": {},
   "source": [
    "### Conclusion for O2\n",
    "**Key Findings**:\n",
    "- Best model: Random Forest with MAE of X.XX years\n",
    "- Most important features: Hypertension, Diabities\n",
    "- R2 score of X.XX indicates [good/moderate/poor] explanatory power\n",
    " \n",
    "**Next Steps**:\n",
    "- Proceed to O3 (age prediction for deceased patients)\n",
    "- Consider feature engineering to improve performance"
   ]
  },
  {
   "cell_type": "markdown",
   "id": "92faa128",
   "metadata": {},
   "source": [
    "## Objective 3 (O3): Severity Score Prediction\n",
    "**Goal**: Predict the AGE of subjects given other attributes  \n",
    "**Approach**:  \n",
    "- Treat as a regression problem  \n",
    "- Evaluate different regression models  \n",
    "- Optimize hyperparameters  \n",
    "- Analyze feature importance"
   ]
  },
  {
   "cell_type": "markdown",
   "id": "0f9524be",
   "metadata": {},
   "source": [
    "##### 1. Predictions on Test Set"
   ]
  },
  {
   "cell_type": "code",
   "execution_count": 27,
   "id": "88dc2fc3",
   "metadata": {},
   "outputs": [],
   "source": [
    "# Filter for deceased individuals\n",
    "deceased_df = data[data['DIED'] == 1].copy()\n",
    "\n",
    "# Separate COVID-positive and COVID-negative deceased individuals\n",
    "covid_pos_df = deceased_df[deceased_df['COVID_POSITIVE'] == 1]\n",
    "covid_neg_df = deceased_df[deceased_df['COVID_POSITIVE'] == 0]\n",
    "\n",
    "# Define features (same as O2)\n",
    "features = ['USMER', 'MEDICAL_UNIT', 'SEX', 'PATIENT_TYPE', \n",
    "           'INTUBED', 'PNEUMONIA', 'DIABETES', 'COPD',\n",
    "           'ASTHMA', 'INMSUPR', 'HYPERTENSION', 'OTHER_DISEASE',\n",
    "           'CARDIOVASCULAR', 'OBESITY', 'RENAL_CHRONIC', 'TOBACCO',\n",
    "           'ICU']\n"
   ]
  },
  {
   "cell_type": "markdown",
   "id": "77a315a9",
   "metadata": {},
   "source": [
    "##### 2. Implementation Steps\n",
    "For COVID-positive deceased:"
   ]
  },
  {
   "cell_type": "code",
   "execution_count": 29,
   "id": "ce7309d3",
   "metadata": {},
   "outputs": [],
   "source": [
    "# Get the best parameters from O2's grid search and remove the prefix\n",
    "best_params = grid_rf.best_params_\n",
    "clean_params = {k.replace('regressor__', ''): v for k, v in best_params.items()}\n",
    "\n",
    "# For COVID-positive deceased\n",
    "X_pos = covid_pos_df[features]\n",
    "y_pos = covid_pos_df['AGE']\n",
    "X_train_pos, X_test_pos, y_train_pos, y_test_pos = train_test_split(\n",
    "    X_pos, y_pos, test_size=0.2, random_state=42)\n",
    "\n",
    "pipeline_pos = Pipeline([\n",
    "    ('preprocessor', preprocessor_age),\n",
    "    ('regressor', RandomForestRegressor(random_state=42, **clean_params))\n",
    "])\n",
    "\n",
    "pipeline_pos.fit(X_train_pos, y_train_pos)\n",
    "y_pred_pos = pipeline_pos.predict(X_test_pos)\n",
    "\n",
    "# For COVID-negative deceased\n",
    "X_neg = covid_neg_df[features]\n",
    "y_neg = covid_neg_df['AGE']\n",
    "X_train_neg, X_test_neg, y_train_neg, y_test_neg = train_test_split(\n",
    "    X_neg, y_neg, test_size=0.2, random_state=42)\n",
    "\n",
    "pipeline_neg = Pipeline([\n",
    "    ('preprocessor', preprocessor_age),\n",
    "    ('regressor', RandomForestRegressor(random_state=42, **clean_params))\n",
    "])\n",
    "\n",
    "pipeline_neg.fit(X_train_neg, y_train_neg)\n",
    "y_pred_neg = pipeline_neg.predict(X_test_neg)"
   ]
  },
  {
   "cell_type": "markdown",
   "id": "3a075d70",
   "metadata": {},
   "source": [
    "For COVID-negative deceased:"
   ]
  },
  {
   "cell_type": "code",
   "execution_count": 31,
   "id": "5efe2606",
   "metadata": {},
   "outputs": [
    {
     "name": "stdout",
     "output_type": "stream",
     "text": [
      "COVID-Negative Deceased Age Prediction Results:\n",
      "MAE: 13.23 years\n",
      "RMSE: 17.51 years\n",
      "R2 Score: 0.13\n"
     ]
    }
   ],
   "source": [
    "# First, let's properly clean the parameters from grid_rf\n",
    "best_params = grid_rf.best_params_\n",
    "clean_params = {k.replace('regressor__', ''): v for k, v in best_params.items()}\n",
    "\n",
    "# For COVID-negative deceased patients\n",
    "X_neg = covid_neg_df[features]\n",
    "y_neg = covid_neg_df['AGE']\n",
    "\n",
    "# Train-test split\n",
    "X_train_neg, X_test_neg, y_train_neg, y_test_neg = train_test_split(\n",
    "    X_neg, y_neg, test_size=0.2, random_state=42)\n",
    "\n",
    "# Create pipeline with cleaned parameters\n",
    "pipeline_neg = Pipeline([\n",
    "    ('preprocessor', preprocessor_age),\n",
    "    ('regressor', RandomForestRegressor(random_state=42, **clean_params))\n",
    "])\n",
    "\n",
    "# Fit and predict\n",
    "pipeline_neg.fit(X_train_neg, y_train_neg)\n",
    "y_pred_neg = pipeline_neg.predict(X_test_neg)\n",
    "\n",
    "# Evaluate\n",
    "mae_neg = mean_absolute_error(y_test_neg, y_pred_neg)\n",
    "rmse_neg = np.sqrt(mean_squared_error(y_test_neg, y_pred_neg))\n",
    "r2_neg = r2_score(y_test_neg, y_pred_neg)\n",
    "\n",
    "print(f\"COVID-Negative Deceased Age Prediction Results:\")\n",
    "print(f\"MAE: {mae_neg:.2f} years\")\n",
    "print(f\"RMSE: {rmse_neg:.2f} years\")\n",
    "print(f\"R2 Score: {r2_neg:.2f}\")"
   ]
  },
  {
   "cell_type": "markdown",
   "id": "778088ab",
   "metadata": {},
   "source": [
    "##### 4. Train Random Forest Models"
   ]
  },
  {
   "cell_type": "code",
   "execution_count": null,
   "id": "32c1f96e",
   "metadata": {},
   "outputs": [
    {
     "ename": "ValueError",
     "evalue": "A given column is not a column of the dataframe",
     "output_type": "error",
     "traceback": [
      "\u001b[31m---------------------------------------------------------------------------\u001b[39m",
      "\u001b[31mKeyError\u001b[39m                                  Traceback (most recent call last)",
      "\u001b[36mFile \u001b[39m\u001b[32mc:\\Users\\tor\\AppData\\Local\\Programs\\Python\\Python311\\Lib\\site-packages\\pandas\\core\\indexes\\base.py:3805\u001b[39m, in \u001b[36mIndex.get_loc\u001b[39m\u001b[34m(self, key)\u001b[39m\n\u001b[32m   3804\u001b[39m \u001b[38;5;28;01mtry\u001b[39;00m:\n\u001b[32m-> \u001b[39m\u001b[32m3805\u001b[39m     \u001b[38;5;28;01mreturn\u001b[39;00m \u001b[38;5;28;43mself\u001b[39;49m\u001b[43m.\u001b[49m\u001b[43m_engine\u001b[49m\u001b[43m.\u001b[49m\u001b[43mget_loc\u001b[49m\u001b[43m(\u001b[49m\u001b[43mcasted_key\u001b[49m\u001b[43m)\u001b[49m\n\u001b[32m   3806\u001b[39m \u001b[38;5;28;01mexcept\u001b[39;00m \u001b[38;5;167;01mKeyError\u001b[39;00m \u001b[38;5;28;01mas\u001b[39;00m err:\n",
      "\u001b[36mFile \u001b[39m\u001b[32mindex.pyx:167\u001b[39m, in \u001b[36mpandas._libs.index.IndexEngine.get_loc\u001b[39m\u001b[34m()\u001b[39m\n",
      "\u001b[36mFile \u001b[39m\u001b[32mindex.pyx:196\u001b[39m, in \u001b[36mpandas._libs.index.IndexEngine.get_loc\u001b[39m\u001b[34m()\u001b[39m\n",
      "\u001b[36mFile \u001b[39m\u001b[32mpandas\\\\_libs\\\\hashtable_class_helper.pxi:7081\u001b[39m, in \u001b[36mpandas._libs.hashtable.PyObjectHashTable.get_item\u001b[39m\u001b[34m()\u001b[39m\n",
      "\u001b[36mFile \u001b[39m\u001b[32mpandas\\\\_libs\\\\hashtable_class_helper.pxi:7089\u001b[39m, in \u001b[36mpandas._libs.hashtable.PyObjectHashTable.get_item\u001b[39m\u001b[34m()\u001b[39m\n",
      "\u001b[31mKeyError\u001b[39m: 'AGE'",
      "\nThe above exception was the direct cause of the following exception:\n",
      "\u001b[31mKeyError\u001b[39m                                  Traceback (most recent call last)",
      "\u001b[36mFile \u001b[39m\u001b[32mc:\\Users\\tor\\AppData\\Local\\Programs\\Python\\Python311\\Lib\\site-packages\\sklearn\\utils\\_indexing.py:364\u001b[39m, in \u001b[36m_get_column_indices\u001b[39m\u001b[34m(X, key)\u001b[39m\n\u001b[32m    363\u001b[39m \u001b[38;5;28;01mfor\u001b[39;00m col \u001b[38;5;129;01min\u001b[39;00m columns:\n\u001b[32m--> \u001b[39m\u001b[32m364\u001b[39m     col_idx = \u001b[43mall_columns\u001b[49m\u001b[43m.\u001b[49m\u001b[43mget_loc\u001b[49m\u001b[43m(\u001b[49m\u001b[43mcol\u001b[49m\u001b[43m)\u001b[49m\n\u001b[32m    365\u001b[39m     \u001b[38;5;28;01mif\u001b[39;00m \u001b[38;5;129;01mnot\u001b[39;00m \u001b[38;5;28misinstance\u001b[39m(col_idx, numbers.Integral):\n",
      "\u001b[36mFile \u001b[39m\u001b[32mc:\\Users\\tor\\AppData\\Local\\Programs\\Python\\Python311\\Lib\\site-packages\\pandas\\core\\indexes\\base.py:3812\u001b[39m, in \u001b[36mIndex.get_loc\u001b[39m\u001b[34m(self, key)\u001b[39m\n\u001b[32m   3811\u001b[39m         \u001b[38;5;28;01mraise\u001b[39;00m InvalidIndexError(key)\n\u001b[32m-> \u001b[39m\u001b[32m3812\u001b[39m     \u001b[38;5;28;01mraise\u001b[39;00m \u001b[38;5;167;01mKeyError\u001b[39;00m(key) \u001b[38;5;28;01mfrom\u001b[39;00m\u001b[38;5;250m \u001b[39m\u001b[34;01merr\u001b[39;00m\n\u001b[32m   3813\u001b[39m \u001b[38;5;28;01mexcept\u001b[39;00m \u001b[38;5;167;01mTypeError\u001b[39;00m:\n\u001b[32m   3814\u001b[39m     \u001b[38;5;66;03m# If we have a listlike key, _check_indexing_error will raise\u001b[39;00m\n\u001b[32m   3815\u001b[39m     \u001b[38;5;66;03m#  InvalidIndexError. Otherwise we fall through and re-raise\u001b[39;00m\n\u001b[32m   3816\u001b[39m     \u001b[38;5;66;03m#  the TypeError.\u001b[39;00m\n",
      "\u001b[31mKeyError\u001b[39m: 'AGE'",
      "\nThe above exception was the direct cause of the following exception:\n",
      "\u001b[31mValueError\u001b[39m                                Traceback (most recent call last)",
      "\u001b[36mCell\u001b[39m\u001b[36m \u001b[39m\u001b[32mIn[66]\u001b[39m\u001b[32m, line 11\u001b[39m\n\u001b[32m      5\u001b[39m pipeline_rf = Pipeline([\n\u001b[32m      6\u001b[39m     (\u001b[33m'\u001b[39m\u001b[33mpreprocessor\u001b[39m\u001b[33m'\u001b[39m, preprocessor),  \u001b[38;5;66;03m# reuse your preprocessing pipeline\u001b[39;00m\n\u001b[32m      7\u001b[39m     (\u001b[33m'\u001b[39m\u001b[33mrf\u001b[39m\u001b[33m'\u001b[39m, RandomForestRegressor(random_state=\u001b[32m42\u001b[39m))\n\u001b[32m      8\u001b[39m ])\n\u001b[32m     10\u001b[39m \u001b[38;5;66;03m# Train for COVID-positive group\u001b[39;00m\n\u001b[32m---> \u001b[39m\u001b[32m11\u001b[39m \u001b[43mpipeline_rf\u001b[49m\u001b[43m.\u001b[49m\u001b[43mfit\u001b[49m\u001b[43m(\u001b[49m\u001b[43mX_train_pos\u001b[49m\u001b[43m,\u001b[49m\u001b[43m \u001b[49m\u001b[43my_train_pos\u001b[49m\u001b[43m)\u001b[49m\n\u001b[32m     12\u001b[39m y_pred_pos = pipeline_rf.predict(X_test_pos)\n\u001b[32m     14\u001b[39m \u001b[38;5;66;03m# Train for COVID-negative group\u001b[39;00m\n",
      "\u001b[36mFile \u001b[39m\u001b[32mc:\\Users\\tor\\AppData\\Local\\Programs\\Python\\Python311\\Lib\\site-packages\\sklearn\\base.py:1389\u001b[39m, in \u001b[36m_fit_context.<locals>.decorator.<locals>.wrapper\u001b[39m\u001b[34m(estimator, *args, **kwargs)\u001b[39m\n\u001b[32m   1382\u001b[39m     estimator._validate_params()\n\u001b[32m   1384\u001b[39m \u001b[38;5;28;01mwith\u001b[39;00m config_context(\n\u001b[32m   1385\u001b[39m     skip_parameter_validation=(\n\u001b[32m   1386\u001b[39m         prefer_skip_nested_validation \u001b[38;5;129;01mor\u001b[39;00m global_skip_validation\n\u001b[32m   1387\u001b[39m     )\n\u001b[32m   1388\u001b[39m ):\n\u001b[32m-> \u001b[39m\u001b[32m1389\u001b[39m     \u001b[38;5;28;01mreturn\u001b[39;00m \u001b[43mfit_method\u001b[49m\u001b[43m(\u001b[49m\u001b[43mestimator\u001b[49m\u001b[43m,\u001b[49m\u001b[43m \u001b[49m\u001b[43m*\u001b[49m\u001b[43margs\u001b[49m\u001b[43m,\u001b[49m\u001b[43m \u001b[49m\u001b[43m*\u001b[49m\u001b[43m*\u001b[49m\u001b[43mkwargs\u001b[49m\u001b[43m)\u001b[49m\n",
      "\u001b[36mFile \u001b[39m\u001b[32mc:\\Users\\tor\\AppData\\Local\\Programs\\Python\\Python311\\Lib\\site-packages\\sklearn\\pipeline.py:654\u001b[39m, in \u001b[36mPipeline.fit\u001b[39m\u001b[34m(self, X, y, **params)\u001b[39m\n\u001b[32m    647\u001b[39m     \u001b[38;5;28;01mraise\u001b[39;00m \u001b[38;5;167;01mValueError\u001b[39;00m(\n\u001b[32m    648\u001b[39m         \u001b[33m\"\u001b[39m\u001b[33mThe `transform_input` parameter can only be set if metadata \u001b[39m\u001b[33m\"\u001b[39m\n\u001b[32m    649\u001b[39m         \u001b[33m\"\u001b[39m\u001b[33mrouting is enabled. You can enable metadata routing using \u001b[39m\u001b[33m\"\u001b[39m\n\u001b[32m    650\u001b[39m         \u001b[33m\"\u001b[39m\u001b[33m`sklearn.set_config(enable_metadata_routing=True)`.\u001b[39m\u001b[33m\"\u001b[39m\n\u001b[32m    651\u001b[39m     )\n\u001b[32m    653\u001b[39m routed_params = \u001b[38;5;28mself\u001b[39m._check_method_params(method=\u001b[33m\"\u001b[39m\u001b[33mfit\u001b[39m\u001b[33m\"\u001b[39m, props=params)\n\u001b[32m--> \u001b[39m\u001b[32m654\u001b[39m Xt = \u001b[38;5;28;43mself\u001b[39;49m\u001b[43m.\u001b[49m\u001b[43m_fit\u001b[49m\u001b[43m(\u001b[49m\u001b[43mX\u001b[49m\u001b[43m,\u001b[49m\u001b[43m \u001b[49m\u001b[43my\u001b[49m\u001b[43m,\u001b[49m\u001b[43m \u001b[49m\u001b[43mrouted_params\u001b[49m\u001b[43m,\u001b[49m\u001b[43m \u001b[49m\u001b[43mraw_params\u001b[49m\u001b[43m=\u001b[49m\u001b[43mparams\u001b[49m\u001b[43m)\u001b[49m\n\u001b[32m    655\u001b[39m \u001b[38;5;28;01mwith\u001b[39;00m _print_elapsed_time(\u001b[33m\"\u001b[39m\u001b[33mPipeline\u001b[39m\u001b[33m\"\u001b[39m, \u001b[38;5;28mself\u001b[39m._log_message(\u001b[38;5;28mlen\u001b[39m(\u001b[38;5;28mself\u001b[39m.steps) - \u001b[32m1\u001b[39m)):\n\u001b[32m    656\u001b[39m     \u001b[38;5;28;01mif\u001b[39;00m \u001b[38;5;28mself\u001b[39m._final_estimator != \u001b[33m\"\u001b[39m\u001b[33mpassthrough\u001b[39m\u001b[33m\"\u001b[39m:\n",
      "\u001b[36mFile \u001b[39m\u001b[32mc:\\Users\\tor\\AppData\\Local\\Programs\\Python\\Python311\\Lib\\site-packages\\sklearn\\pipeline.py:588\u001b[39m, in \u001b[36mPipeline._fit\u001b[39m\u001b[34m(self, X, y, routed_params, raw_params)\u001b[39m\n\u001b[32m    581\u001b[39m \u001b[38;5;66;03m# Fit or load from cache the current transformer\u001b[39;00m\n\u001b[32m    582\u001b[39m step_params = \u001b[38;5;28mself\u001b[39m._get_metadata_for_step(\n\u001b[32m    583\u001b[39m     step_idx=step_idx,\n\u001b[32m    584\u001b[39m     step_params=routed_params[name],\n\u001b[32m    585\u001b[39m     all_params=raw_params,\n\u001b[32m    586\u001b[39m )\n\u001b[32m--> \u001b[39m\u001b[32m588\u001b[39m X, fitted_transformer = \u001b[43mfit_transform_one_cached\u001b[49m\u001b[43m(\u001b[49m\n\u001b[32m    589\u001b[39m \u001b[43m    \u001b[49m\u001b[43mcloned_transformer\u001b[49m\u001b[43m,\u001b[49m\n\u001b[32m    590\u001b[39m \u001b[43m    \u001b[49m\u001b[43mX\u001b[49m\u001b[43m,\u001b[49m\n\u001b[32m    591\u001b[39m \u001b[43m    \u001b[49m\u001b[43my\u001b[49m\u001b[43m,\u001b[49m\n\u001b[32m    592\u001b[39m \u001b[43m    \u001b[49m\u001b[43mweight\u001b[49m\u001b[43m=\u001b[49m\u001b[38;5;28;43;01mNone\u001b[39;49;00m\u001b[43m,\u001b[49m\n\u001b[32m    593\u001b[39m \u001b[43m    \u001b[49m\u001b[43mmessage_clsname\u001b[49m\u001b[43m=\u001b[49m\u001b[33;43m\"\u001b[39;49m\u001b[33;43mPipeline\u001b[39;49m\u001b[33;43m\"\u001b[39;49m\u001b[43m,\u001b[49m\n\u001b[32m    594\u001b[39m \u001b[43m    \u001b[49m\u001b[43mmessage\u001b[49m\u001b[43m=\u001b[49m\u001b[38;5;28;43mself\u001b[39;49m\u001b[43m.\u001b[49m\u001b[43m_log_message\u001b[49m\u001b[43m(\u001b[49m\u001b[43mstep_idx\u001b[49m\u001b[43m)\u001b[49m\u001b[43m,\u001b[49m\n\u001b[32m    595\u001b[39m \u001b[43m    \u001b[49m\u001b[43mparams\u001b[49m\u001b[43m=\u001b[49m\u001b[43mstep_params\u001b[49m\u001b[43m,\u001b[49m\n\u001b[32m    596\u001b[39m \u001b[43m\u001b[49m\u001b[43m)\u001b[49m\n\u001b[32m    597\u001b[39m \u001b[38;5;66;03m# Replace the transformer of the step with the fitted\u001b[39;00m\n\u001b[32m    598\u001b[39m \u001b[38;5;66;03m# transformer. This is necessary when loading the transformer\u001b[39;00m\n\u001b[32m    599\u001b[39m \u001b[38;5;66;03m# from the cache.\u001b[39;00m\n\u001b[32m    600\u001b[39m \u001b[38;5;28mself\u001b[39m.steps[step_idx] = (name, fitted_transformer)\n",
      "\u001b[36mFile \u001b[39m\u001b[32mc:\\Users\\tor\\AppData\\Local\\Programs\\Python\\Python311\\Lib\\site-packages\\joblib\\memory.py:326\u001b[39m, in \u001b[36mNotMemorizedFunc.__call__\u001b[39m\u001b[34m(self, *args, **kwargs)\u001b[39m\n\u001b[32m    325\u001b[39m \u001b[38;5;28;01mdef\u001b[39;00m\u001b[38;5;250m \u001b[39m\u001b[34m__call__\u001b[39m(\u001b[38;5;28mself\u001b[39m, *args, **kwargs):\n\u001b[32m--> \u001b[39m\u001b[32m326\u001b[39m     \u001b[38;5;28;01mreturn\u001b[39;00m \u001b[38;5;28;43mself\u001b[39;49m\u001b[43m.\u001b[49m\u001b[43mfunc\u001b[49m\u001b[43m(\u001b[49m\u001b[43m*\u001b[49m\u001b[43margs\u001b[49m\u001b[43m,\u001b[49m\u001b[43m \u001b[49m\u001b[43m*\u001b[49m\u001b[43m*\u001b[49m\u001b[43mkwargs\u001b[49m\u001b[43m)\u001b[49m\n",
      "\u001b[36mFile \u001b[39m\u001b[32mc:\\Users\\tor\\AppData\\Local\\Programs\\Python\\Python311\\Lib\\site-packages\\sklearn\\pipeline.py:1551\u001b[39m, in \u001b[36m_fit_transform_one\u001b[39m\u001b[34m(transformer, X, y, weight, message_clsname, message, params)\u001b[39m\n\u001b[32m   1549\u001b[39m \u001b[38;5;28;01mwith\u001b[39;00m _print_elapsed_time(message_clsname, message):\n\u001b[32m   1550\u001b[39m     \u001b[38;5;28;01mif\u001b[39;00m \u001b[38;5;28mhasattr\u001b[39m(transformer, \u001b[33m\"\u001b[39m\u001b[33mfit_transform\u001b[39m\u001b[33m\"\u001b[39m):\n\u001b[32m-> \u001b[39m\u001b[32m1551\u001b[39m         res = \u001b[43mtransformer\u001b[49m\u001b[43m.\u001b[49m\u001b[43mfit_transform\u001b[49m\u001b[43m(\u001b[49m\u001b[43mX\u001b[49m\u001b[43m,\u001b[49m\u001b[43m \u001b[49m\u001b[43my\u001b[49m\u001b[43m,\u001b[49m\u001b[43m \u001b[49m\u001b[43m*\u001b[49m\u001b[43m*\u001b[49m\u001b[43mparams\u001b[49m\u001b[43m.\u001b[49m\u001b[43mget\u001b[49m\u001b[43m(\u001b[49m\u001b[33;43m\"\u001b[39;49m\u001b[33;43mfit_transform\u001b[39;49m\u001b[33;43m\"\u001b[39;49m\u001b[43m,\u001b[49m\u001b[43m \u001b[49m\u001b[43m{\u001b[49m\u001b[43m}\u001b[49m\u001b[43m)\u001b[49m\u001b[43m)\u001b[49m\n\u001b[32m   1552\u001b[39m     \u001b[38;5;28;01melse\u001b[39;00m:\n\u001b[32m   1553\u001b[39m         res = transformer.fit(X, y, **params.get(\u001b[33m\"\u001b[39m\u001b[33mfit\u001b[39m\u001b[33m\"\u001b[39m, {})).transform(\n\u001b[32m   1554\u001b[39m             X, **params.get(\u001b[33m\"\u001b[39m\u001b[33mtransform\u001b[39m\u001b[33m\"\u001b[39m, {})\n\u001b[32m   1555\u001b[39m         )\n",
      "\u001b[36mFile \u001b[39m\u001b[32mc:\\Users\\tor\\AppData\\Local\\Programs\\Python\\Python311\\Lib\\site-packages\\sklearn\\utils\\_set_output.py:319\u001b[39m, in \u001b[36m_wrap_method_output.<locals>.wrapped\u001b[39m\u001b[34m(self, X, *args, **kwargs)\u001b[39m\n\u001b[32m    317\u001b[39m \u001b[38;5;129m@wraps\u001b[39m(f)\n\u001b[32m    318\u001b[39m \u001b[38;5;28;01mdef\u001b[39;00m\u001b[38;5;250m \u001b[39m\u001b[34mwrapped\u001b[39m(\u001b[38;5;28mself\u001b[39m, X, *args, **kwargs):\n\u001b[32m--> \u001b[39m\u001b[32m319\u001b[39m     data_to_wrap = \u001b[43mf\u001b[49m\u001b[43m(\u001b[49m\u001b[38;5;28;43mself\u001b[39;49m\u001b[43m,\u001b[49m\u001b[43m \u001b[49m\u001b[43mX\u001b[49m\u001b[43m,\u001b[49m\u001b[43m \u001b[49m\u001b[43m*\u001b[49m\u001b[43margs\u001b[49m\u001b[43m,\u001b[49m\u001b[43m \u001b[49m\u001b[43m*\u001b[49m\u001b[43m*\u001b[49m\u001b[43mkwargs\u001b[49m\u001b[43m)\u001b[49m\n\u001b[32m    320\u001b[39m     \u001b[38;5;28;01mif\u001b[39;00m \u001b[38;5;28misinstance\u001b[39m(data_to_wrap, \u001b[38;5;28mtuple\u001b[39m):\n\u001b[32m    321\u001b[39m         \u001b[38;5;66;03m# only wrap the first output for cross decomposition\u001b[39;00m\n\u001b[32m    322\u001b[39m         return_tuple = (\n\u001b[32m    323\u001b[39m             _wrap_data_with_container(method, data_to_wrap[\u001b[32m0\u001b[39m], X, \u001b[38;5;28mself\u001b[39m),\n\u001b[32m    324\u001b[39m             *data_to_wrap[\u001b[32m1\u001b[39m:],\n\u001b[32m    325\u001b[39m         )\n",
      "\u001b[36mFile \u001b[39m\u001b[32mc:\\Users\\tor\\AppData\\Local\\Programs\\Python\\Python311\\Lib\\site-packages\\sklearn\\base.py:1389\u001b[39m, in \u001b[36m_fit_context.<locals>.decorator.<locals>.wrapper\u001b[39m\u001b[34m(estimator, *args, **kwargs)\u001b[39m\n\u001b[32m   1382\u001b[39m     estimator._validate_params()\n\u001b[32m   1384\u001b[39m \u001b[38;5;28;01mwith\u001b[39;00m config_context(\n\u001b[32m   1385\u001b[39m     skip_parameter_validation=(\n\u001b[32m   1386\u001b[39m         prefer_skip_nested_validation \u001b[38;5;129;01mor\u001b[39;00m global_skip_validation\n\u001b[32m   1387\u001b[39m     )\n\u001b[32m   1388\u001b[39m ):\n\u001b[32m-> \u001b[39m\u001b[32m1389\u001b[39m     \u001b[38;5;28;01mreturn\u001b[39;00m \u001b[43mfit_method\u001b[49m\u001b[43m(\u001b[49m\u001b[43mestimator\u001b[49m\u001b[43m,\u001b[49m\u001b[43m \u001b[49m\u001b[43m*\u001b[49m\u001b[43margs\u001b[49m\u001b[43m,\u001b[49m\u001b[43m \u001b[49m\u001b[43m*\u001b[49m\u001b[43m*\u001b[49m\u001b[43mkwargs\u001b[49m\u001b[43m)\u001b[49m\n",
      "\u001b[36mFile \u001b[39m\u001b[32mc:\\Users\\tor\\AppData\\Local\\Programs\\Python\\Python311\\Lib\\site-packages\\sklearn\\compose\\_column_transformer.py:993\u001b[39m, in \u001b[36mColumnTransformer.fit_transform\u001b[39m\u001b[34m(self, X, y, **params)\u001b[39m\n\u001b[32m    990\u001b[39m \u001b[38;5;28mself\u001b[39m._validate_transformers()\n\u001b[32m    991\u001b[39m n_samples = _num_samples(X)\n\u001b[32m--> \u001b[39m\u001b[32m993\u001b[39m \u001b[38;5;28;43mself\u001b[39;49m\u001b[43m.\u001b[49m\u001b[43m_validate_column_callables\u001b[49m\u001b[43m(\u001b[49m\u001b[43mX\u001b[49m\u001b[43m)\u001b[49m\n\u001b[32m    994\u001b[39m \u001b[38;5;28mself\u001b[39m._validate_remainder(X)\n\u001b[32m    996\u001b[39m \u001b[38;5;28;01mif\u001b[39;00m _routing_enabled():\n",
      "\u001b[36mFile \u001b[39m\u001b[32mc:\\Users\\tor\\AppData\\Local\\Programs\\Python\\Python311\\Lib\\site-packages\\sklearn\\compose\\_column_transformer.py:552\u001b[39m, in \u001b[36mColumnTransformer._validate_column_callables\u001b[39m\u001b[34m(self, X)\u001b[39m\n\u001b[32m    550\u001b[39m         columns = columns(X)\n\u001b[32m    551\u001b[39m     all_columns.append(columns)\n\u001b[32m--> \u001b[39m\u001b[32m552\u001b[39m     transformer_to_input_indices[name] = \u001b[43m_get_column_indices\u001b[49m\u001b[43m(\u001b[49m\u001b[43mX\u001b[49m\u001b[43m,\u001b[49m\u001b[43m \u001b[49m\u001b[43mcolumns\u001b[49m\u001b[43m)\u001b[49m\n\u001b[32m    554\u001b[39m \u001b[38;5;28mself\u001b[39m._columns = all_columns\n\u001b[32m    555\u001b[39m \u001b[38;5;28mself\u001b[39m._transformer_to_input_indices = transformer_to_input_indices\n",
      "\u001b[36mFile \u001b[39m\u001b[32mc:\\Users\\tor\\AppData\\Local\\Programs\\Python\\Python311\\Lib\\site-packages\\sklearn\\utils\\_indexing.py:372\u001b[39m, in \u001b[36m_get_column_indices\u001b[39m\u001b[34m(X, key)\u001b[39m\n\u001b[32m    369\u001b[39m         column_indices.append(col_idx)\n\u001b[32m    371\u001b[39m \u001b[38;5;28;01mexcept\u001b[39;00m \u001b[38;5;167;01mKeyError\u001b[39;00m \u001b[38;5;28;01mas\u001b[39;00m e:\n\u001b[32m--> \u001b[39m\u001b[32m372\u001b[39m     \u001b[38;5;28;01mraise\u001b[39;00m \u001b[38;5;167;01mValueError\u001b[39;00m(\u001b[33m\"\u001b[39m\u001b[33mA given column is not a column of the dataframe\u001b[39m\u001b[33m\"\u001b[39m) \u001b[38;5;28;01mfrom\u001b[39;00m\u001b[38;5;250m \u001b[39m\u001b[34;01me\u001b[39;00m\n\u001b[32m    374\u001b[39m \u001b[38;5;28;01mreturn\u001b[39;00m column_indices\n",
      "\u001b[31mValueError\u001b[39m: A given column is not a column of the dataframe"
     ]
    }
   ],
   "source": [
    "# Example visualization\n",
    "fig, (ax1, ax2) = plt.subplots(1, 2, figsize=(12, 5))\n",
    "\n",
    "# COVID-positive\n",
    "ax1.scatter(y_test_pos, y_pred_pos, alpha=0.3)\n",
    "ax1.plot([y_test_pos.min(), y_test_pos.max()], \n",
    "         [y_test_pos.min(), y_test_pos.max()], 'r--')\n",
    "ax1.set_title('COVID-Positive Deceased')\n",
    "ax1.set_xlabel('Actual Age')\n",
    "ax1.set_ylabel('Predicted Age')\n",
    "\n",
    "# COVID-negative\n",
    "ax2.scatter(y_test_neg, y_pred_neg, alpha=0.3)\n",
    "ax2.plot([y_test_neg.min(), y_test_neg.max()], \n",
    "         [y_test_neg.min(), y_test_neg.max()], 'r--')\n",
    "ax2.set_title('COVID-Negative Deceased')\n",
    "ax2.set_xlabel('Actual Age')\n",
    "\n",
    "plt.tight_layout()\n",
    "plt.show()"
   ]
  },
  {
   "cell_type": "markdown",
   "id": "04ec0880",
   "metadata": {},
   "source": [
    "##### 5. Evaluate Model Performance"
   ]
  },
  {
   "cell_type": "code",
   "execution_count": null,
   "id": "95549bc6",
   "metadata": {},
   "outputs": [],
   "source": [
    "# from sklearn.metrics import mean_absolute_error, mean_squared_error\n",
    "# import numpy as np\n",
    "\n",
    "# # Evaluation for COVID-positive group\n",
    "# mae_pos = mean_absolute_error(y_test_pos, y_pred_pos)\n",
    "# rmse_pos = np.sqrt(mean_squared_error(y_test_pos, y_pred_pos))\n",
    "\n",
    "# # Evaluation for COVID-negative group\n",
    "# mae_neg = mean_absolute_error(y_test_neg, y_pred_neg)\n",
    "# rmse_neg = np.sqrt(mean_squared_error(y_test_neg, y_pred_neg))\n",
    "\n",
    "# print(\"\\U0001F4CA Age Prediction for Deceased Patients:\")\n",
    "# print(f\"COVID-positive → MAE: {mae_pos:.2f}, RMSE: {rmse_pos:.2f}\")\n",
    "# print(f\"COVID-negative → MAE: {mae_neg:.2f}, RMSE: {rmse_neg:.2f}\")"
   ]
  }
 ],
 "metadata": {
  "kernelspec": {
   "display_name": "Python 3",
   "language": "python",
   "name": "python3"
  },
  "language_info": {
   "codemirror_mode": {
    "name": "ipython",
    "version": 3
   },
   "file_extension": ".py",
   "mimetype": "text/x-python",
   "name": "python",
   "nbconvert_exporter": "python",
   "pygments_lexer": "ipython3",
   "version": "3.11.0"
  }
 },
 "nbformat": 4,
 "nbformat_minor": 5
}

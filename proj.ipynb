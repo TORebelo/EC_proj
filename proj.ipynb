{
 "cells": [
  {
   "cell_type": "markdown",
   "id": "b30a5c4e",
   "metadata": {},
   "source": [
    "Load the Data"
   ]
  },
  {
   "cell_type": "code",
   "execution_count": 1,
   "id": "9d0dcd02",
   "metadata": {},
   "outputs": [
    {
     "name": "stdout",
     "output_type": "stream",
     "text": [
      "Data loaded with shape: (100000, 21)\n"
     ]
    }
   ],
   "source": [
    "import pandas as pd\n",
    "import numpy as np\n",
    "from sklearn.model_selection import train_test_split\n",
    "from sklearn.preprocessing import StandardScaler\n",
    "from sklearn.impute import SimpleImputer\n",
    "from sklearn.pipeline import Pipeline\n",
    "from sklearn.compose import ColumnTransformer\n",
    "\n",
    "data = pd.read_csv('data/custom_covid19.csv') \n",
    "print(\"Data loaded with shape:\", data.shape)\n"
   ]
  },
  {
   "cell_type": "markdown",
   "id": "d159f494",
   "metadata": {},
   "source": [
    "##### 1. Create target variable"
   ]
  },
  {
   "cell_type": "code",
   "execution_count": 2,
   "id": "8a401ea3",
   "metadata": {},
   "outputs": [],
   "source": [
    "data['DIED'] = data['DATE_DIED'].apply(lambda x: 0 if x == '9999-99-99' else 1)\n"
   ]
  },
  {
   "cell_type": "markdown",
   "id": "01577827",
   "metadata": {},
   "source": [
    "##### 2. Mark missing values"
   ]
  },
  {
   "cell_type": "code",
   "execution_count": 3,
   "id": "3a677a38",
   "metadata": {},
   "outputs": [],
   "source": [
    "data.replace([97, 98, 99], np.nan, inplace=True)\n"
   ]
  },
  {
   "cell_type": "markdown",
   "id": "c38857dd",
   "metadata": {},
   "source": [
    "##### 3. Convert boolean variables"
   ]
  },
  {
   "cell_type": "code",
   "execution_count": 4,
   "id": "ed05d94c",
   "metadata": {},
   "outputs": [],
   "source": [
    "bool_cols = ['INTUBED', 'PNEUMONIA', 'PREGNANT', 'DIABETES', 'COPD', 'ASTHMA', \n",
    "             'INMSUPR', 'HYPERTENSION', 'OTHER_DISEASE', 'CARDIOVASCULAR', \n",
    "             'OBESITY', 'RENAL_CHRONIC', 'TOBACCO', 'ICU']\n",
    "data[bool_cols] = data[bool_cols].replace(2, 0)\n"
   ]
  },
  {
   "cell_type": "markdown",
   "id": "f6f08925",
   "metadata": {},
   "source": [
    "##### 4. Create COVID status feature"
   ]
  },
  {
   "cell_type": "code",
   "execution_count": 5,
   "id": "dda834cd",
   "metadata": {},
   "outputs": [],
   "source": [
    "data['COVID_POSITIVE'] = data['TEST_RESULT'].apply(lambda x: 1 if x in [1,2,3] else 0)"
   ]
  },
  {
   "cell_type": "markdown",
   "id": "fa9bb1ab",
   "metadata": {},
   "source": [
    "##### 5. Define features to keep/drop"
   ]
  },
  {
   "cell_type": "code",
   "execution_count": 6,
   "id": "42d4c4ad",
   "metadata": {},
   "outputs": [],
   "source": [
    "features_to_keep = ['USMER', 'MEDICAL_UNIT', 'SEX', 'PATIENT_TYPE', \n",
    "                   'INTUBED', 'PNEUMONIA', 'AGE', 'DIABETES', 'COPD',\n",
    "                   'ASTHMA', 'INMSUPR', 'HYPERTENSION', 'OTHER_DISEASE',\n",
    "                   'CARDIOVASCULAR', 'OBESITY', 'RENAL_CHRONIC', 'TOBACCO',\n",
    "                   'ICU', 'COVID_POSITIVE']\n",
    "\n",
    "# 6. Separate features and target\n",
    "X = data[features_to_keep]\n",
    "y = data['DIED']"
   ]
  },
  {
   "cell_type": "markdown",
   "id": "d143b8bb",
   "metadata": {},
   "source": [
    "##### 6. Define preprocessing pipeline"
   ]
  },
  {
   "cell_type": "code",
   "execution_count": 7,
   "id": "c1d9882a",
   "metadata": {},
   "outputs": [
    {
     "name": "stdout",
     "output_type": "stream",
     "text": [
      "Numeric features: ['AGE']\n",
      "Categorical features: ['USMER', 'MEDICAL_UNIT', 'SEX', 'PATIENT_TYPE', 'INTUBED', 'PNEUMONIA', 'DIABETES', 'COPD', 'ASTHMA', 'INMSUPR', 'HYPERTENSION', 'OTHER_DISEASE', 'CARDIOVASCULAR', 'OBESITY', 'RENAL_CHRONIC', 'TOBACCO', 'ICU']\n"
     ]
    }
   ],
   "source": [
    "numeric_features = ['AGE']\n",
    "categorical_features = [col for col in features_to_keep \n",
    "                       if col not in numeric_features + ['DIED', 'COVID_POSITIVE']]\n",
    "\n",
    "# Numeric pipeline (mean imputation + scaling)\n",
    "numeric_transformer = Pipeline([\n",
    "    ('imputer', SimpleImputer(strategy='mean')),\n",
    "    ('scaler', StandardScaler())\n",
    "])\n",
    "\n",
    "# Categorical pipeline (mode imputation)\n",
    "categorical_transformer = Pipeline([\n",
    "    ('imputer', SimpleImputer(strategy='most_frequent'))\n",
    "])\n",
    "\n",
    "# Combined preprocessor\n",
    "preprocessor = ColumnTransformer([\n",
    "    ('num', numeric_transformer, numeric_features),\n",
    "    ('cat', categorical_transformer, categorical_features)\n",
    "])\n",
    "\n",
    "# Verification\n",
    "print(\"Numeric features:\", numeric_features)\n",
    "print(\"Categorical features:\", categorical_features)"
   ]
  },
  {
   "cell_type": "markdown",
   "id": "5293cb08",
   "metadata": {},
   "source": [
    "##### 8. Train-test split\n",
    " \n",
    "Split the data into training and testing sets\n",
    "Stratified split to maintain the same distribution of the target variable in both sets"
   ]
  },
  {
   "cell_type": "code",
   "execution_count": 8,
   "id": "e62d2b95",
   "metadata": {},
   "outputs": [
    {
     "name": "stdout",
     "output_type": "stream",
     "text": [
      "Training set: (80000, 19), Test set: (20000, 19)\n",
      "Class distribution (train): DIED\n",
      "0    0.926625\n",
      "1    0.073375\n",
      "Name: proportion, dtype: float64\n"
     ]
    }
   ],
   "source": [
    "X_train, X_test, y_train, y_test = train_test_split(\n",
    "    X, y, test_size=0.2, random_state=42, stratify=y)\n",
    "\n",
    "print(f\"Training set: {X_train.shape}, Test set: {X_test.shape}\")\n",
    "print(f\"Class distribution (train): {pd.Series(y_train).value_counts(normalize=True)}\")\n"
   ]
  },
  {
   "cell_type": "markdown",
   "id": "640f8b9c",
   "metadata": {},
   "source": [
    "##### 9. Model Evaluation \n"
   ]
  },
  {
   "cell_type": "markdown",
   "id": "28fcfd7e",
   "metadata": {},
   "source": [
    "1. Model Evaluation Setup"
   ]
  },
  {
   "cell_type": "code",
   "execution_count": 9,
   "id": "f8d12708",
   "metadata": {},
   "outputs": [],
   "source": [
    "# We'll evaluate three baseline classifiers:\n",
    "# 1. Naive Bayes (probabilistic)\n",
    "# 2. K-Nearest Neighbors (instance-based)\n",
    "# 3. SVM with RBF kernel (maximum margin)\n",
    "\n",
    "import os\n",
    "from sklearn.pipeline import make_pipeline\n",
    "from sklearn.naive_bayes import GaussianNB\n",
    "from sklearn.neighbors import KNeighborsClassifier\n",
    "from sklearn.svm import SVC\n",
    "from sklearn.metrics import classification_report, confusion_matrix\n",
    "import matplotlib.pyplot as plt\n",
    "import seaborn as sns\n",
    "from IPython.display import display, Markdown\n",
    "\n",
    "# Visualization settings\n",
    "plt.style.use('seaborn-v0_8')\n",
    "plt.rcParams['figure.figsize'] = (8, 4)\n",
    "sns.set_palette(\"husl\")\n",
    "# Ensure 'figures' directory exists\n",
    "os.makedirs(\"figures\", exist_ok=True)"
   ]
  },
  {
   "cell_type": "markdown",
   "id": "39ae8afd",
   "metadata": {},
   "source": [
    "2. Evaluation Function"
   ]
  },
  {
   "cell_type": "code",
   "execution_count": 10,
   "id": "025c3025",
   "metadata": {},
   "outputs": [],
   "source": [
    "def evaluate_model(name, model, X_train, X_test, y_train, y_test):\n",
    "    \"\"\"\n",
    "    Evaluates a classification model and generates report-ready outputs.\n",
    "\n",
    "    Parameters:\n",
    "    - name: str, model name for display\n",
    "    - model: sklearn classifier object\n",
    "    - X_train, X_test, y_train, y_test: training/test data\n",
    "\n",
    "    Returns:\n",
    "    - Dictionary containing metrics and visualization paths\n",
    "    \"\"\"\n",
    "    # Create pipeline and fit model\n",
    "    clf = make_pipeline(preprocessor, model)\n",
    "    clf.fit(X_train, y_train)\n",
    "    \n",
    "    # Generate predictions\n",
    "    y_pred = clf.predict(X_test)\n",
    "    \n",
    "    # Create classification report and confusion matrix\n",
    "    report = classification_report(y_test, y_pred, output_dict=True)\n",
    "    cm = confusion_matrix(y_test, y_pred)\n",
    "    \n",
    "    # Create visualizations\n",
    "    fig, (ax1, ax2) = plt.subplots(1, 2, figsize=(12, 4))\n",
    "\n",
    "    # Confusion matrix heatmap\n",
    "    sns.heatmap(cm, annot=True, fmt='d', cmap='Blues', ax=ax1,\n",
    "                xticklabels=['Survived', 'Died'],\n",
    "                yticklabels=['Survived', 'Died'])\n",
    "    ax1.set_title(f'{name} Confusion Matrix')\n",
    "    ax1.set_xlabel('Predicted')\n",
    "    ax1.set_ylabel('Actual')\n",
    "\n",
    "    # Metrics bar plot\n",
    "    metrics = ['precision', 'recall', 'f1-score']\n",
    "    scores = [report['weighted avg'][m] for m in metrics]\n",
    "    sns.barplot(x=metrics, y=scores, ax=ax2)\n",
    "    ax2.set_title(f'{name} Performance Metrics')\n",
    "    ax2.set_ylim(0, 1)\n",
    "\n",
    "    # Save the figure\n",
    "    fig_path = f'figures/{name.lower().replace(\" \", \"_\")}_performance.png'\n",
    "    plt.tight_layout()\n",
    "    plt.savefig(fig_path)\n",
    "    plt.close()\n",
    "\n",
    "    # Display outputs in the notebook\n",
    "    display(Markdown(f\"## {name} Performance\"))\n",
    "    display(Markdown(\"### Classification Report\"))\n",
    "    print(classification_report(y_test, y_pred))\n",
    "\n",
    "    display(Markdown(\"### Confusion Matrix\"))\n",
    "    print(cm)\n",
    "\n",
    "    return {\n",
    "        'model': name,\n",
    "        'accuracy': report['accuracy'],\n",
    "        'precision': report['weighted avg']['precision'],\n",
    "        'recall': report['weighted avg']['recall'],\n",
    "        'f1': report['weighted avg']['f1-score'],\n",
    "        'figure_path': fig_path\n",
    "    }\n"
   ]
  },
  {
   "cell_type": "markdown",
   "id": "64e5aa60",
   "metadata": {},
   "source": [
    "3. Model Definitions"
   ]
  },
  {
   "cell_type": "code",
   "execution_count": 11,
   "id": "06bf13ca",
   "metadata": {},
   "outputs": [],
   "source": [
    "\n",
    "#### Baseline Model Definitions\n",
    "# We select three distinct algorithmic approaches:\n",
    "\n",
    "models = [\n",
    "    ('Naive Bayes', GaussianNB()),\n",
    "    ('K-Nearest Neighbors', KNeighborsClassifier(n_neighbors=5)),\n",
    "    ('Support Vector Machine', SVC(kernel='rbf', gamma='scale'))\n",
    "]"
   ]
  },
  {
   "cell_type": "markdown",
   "id": "d6d0ea17",
   "metadata": {},
   "source": [
    "4. Model Evaluation Execution"
   ]
  },
  {
   "cell_type": "code",
   "execution_count": 12,
   "id": "3710d9f1",
   "metadata": {},
   "outputs": [
    {
     "data": {
      "text/markdown": [
       "## Naive Bayes Performance"
      ],
      "text/plain": [
       "<IPython.core.display.Markdown object>"
      ]
     },
     "metadata": {},
     "output_type": "display_data"
    },
    {
     "data": {
      "text/markdown": [
       "### Classification Report"
      ],
      "text/plain": [
       "<IPython.core.display.Markdown object>"
      ]
     },
     "metadata": {},
     "output_type": "display_data"
    },
    {
     "name": "stdout",
     "output_type": "stream",
     "text": [
      "              precision    recall  f1-score   support\n",
      "\n",
      "           0       0.97      0.92      0.94     18532\n",
      "           1       0.40      0.70      0.51      1468\n",
      "\n",
      "    accuracy                           0.90     20000\n",
      "   macro avg       0.69      0.81      0.73     20000\n",
      "weighted avg       0.93      0.90      0.91     20000\n",
      "\n"
     ]
    },
    {
     "data": {
      "text/markdown": [
       "### Confusion Matrix"
      ],
      "text/plain": [
       "<IPython.core.display.Markdown object>"
      ]
     },
     "metadata": {},
     "output_type": "display_data"
    },
    {
     "name": "stdout",
     "output_type": "stream",
     "text": [
      "[[16969  1563]\n",
      " [  438  1030]]\n"
     ]
    },
    {
     "data": {
      "text/markdown": [
       "## K-Nearest Neighbors Performance"
      ],
      "text/plain": [
       "<IPython.core.display.Markdown object>"
      ]
     },
     "metadata": {},
     "output_type": "display_data"
    },
    {
     "data": {
      "text/markdown": [
       "### Classification Report"
      ],
      "text/plain": [
       "<IPython.core.display.Markdown object>"
      ]
     },
     "metadata": {},
     "output_type": "display_data"
    },
    {
     "name": "stdout",
     "output_type": "stream",
     "text": [
      "              precision    recall  f1-score   support\n",
      "\n",
      "           0       0.96      0.98      0.97     18532\n",
      "           1       0.62      0.48      0.54      1468\n",
      "\n",
      "    accuracy                           0.94     20000\n",
      "   macro avg       0.79      0.73      0.75     20000\n",
      "weighted avg       0.93      0.94      0.94     20000\n",
      "\n"
     ]
    },
    {
     "data": {
      "text/markdown": [
       "### Confusion Matrix"
      ],
      "text/plain": [
       "<IPython.core.display.Markdown object>"
      ]
     },
     "metadata": {},
     "output_type": "display_data"
    },
    {
     "name": "stdout",
     "output_type": "stream",
     "text": [
      "[[18100   432]\n",
      " [  770   698]]\n"
     ]
    },
    {
     "data": {
      "text/markdown": [
       "## Support Vector Machine Performance"
      ],
      "text/plain": [
       "<IPython.core.display.Markdown object>"
      ]
     },
     "metadata": {},
     "output_type": "display_data"
    },
    {
     "data": {
      "text/markdown": [
       "### Classification Report"
      ],
      "text/plain": [
       "<IPython.core.display.Markdown object>"
      ]
     },
     "metadata": {},
     "output_type": "display_data"
    },
    {
     "name": "stdout",
     "output_type": "stream",
     "text": [
      "              precision    recall  f1-score   support\n",
      "\n",
      "           0       0.95      0.99      0.97     18532\n",
      "           1       0.77      0.32      0.46      1468\n",
      "\n",
      "    accuracy                           0.94     20000\n",
      "   macro avg       0.86      0.66      0.71     20000\n",
      "weighted avg       0.94      0.94      0.93     20000\n",
      "\n"
     ]
    },
    {
     "data": {
      "text/markdown": [
       "### Confusion Matrix"
      ],
      "text/plain": [
       "<IPython.core.display.Markdown object>"
      ]
     },
     "metadata": {},
     "output_type": "display_data"
    },
    {
     "name": "stdout",
     "output_type": "stream",
     "text": [
      "[[18392   140]\n",
      " [  993   475]]\n"
     ]
    }
   ],
   "source": [
    "# === Evaluate All Baseline Models ===\n",
    "\n",
    "model_results = []\n",
    "\n",
    "for name, model in models:\n",
    "    result = evaluate_model(name, model, X_train, X_test, y_train, y_test)\n",
    "    model_results.append(result)\n"
   ]
  },
  {
   "cell_type": "markdown",
   "id": "a9f8706e",
   "metadata": {},
   "source": [
    "##### 10. Hyperparameter Optimization\n",
    "We implement systematic hyperparameter tuning for all three models using GridSearchCV (exhaustive search) to find optimal parameters."
   ]
  },
  {
   "cell_type": "markdown",
   "id": "8aeef901",
   "metadata": {},
   "source": [
    "A. Naive Bayes (GaussianNB)\n",
    "   "
   ]
  },
  {
   "cell_type": "code",
   "execution_count": 13,
   "id": "f9124c37",
   "metadata": {},
   "outputs": [],
   "source": [
    "param_grid_nb = {\n",
    "    'gaussiannb__var_smoothing': [1e-9, 1e-8, 1e-7]  # Note the stepname__param format\n",
    "}"
   ]
  },
  {
   "cell_type": "markdown",
   "id": "05b5cab2",
   "metadata": {},
   "source": [
    "B. K-Nearest Neighbors (KNN)"
   ]
  },
  {
   "cell_type": "code",
   "execution_count": 14,
   "id": "c7f7be90",
   "metadata": {},
   "outputs": [],
   "source": [
    "param_grid_knn = {\n",
    "    'kneighborsclassifier__n_neighbors': [3, 5, 7, 9],\n",
    "    'kneighborsclassifier__weights': ['uniform', 'distance'],\n",
    "    'kneighborsclassifier__p': [1, 2]\n",
    "}"
   ]
  },
  {
   "cell_type": "markdown",
   "id": "c7ec82ea",
   "metadata": {},
   "source": [
    "C. Support Vector Machine (SVM)"
   ]
  },
  {
   "cell_type": "code",
   "execution_count": null,
   "id": "2d2eaeca",
   "metadata": {},
   "outputs": [],
   "source": [
    "param_grid_svm = {\n",
    "    'svc__C': [0.1, 1, 10],\n",
    "    'svc__gamma': ['scale', 'auto', 0.01, 0.1],\n",
    "    'svc__kernel': ['rbf']\n",
    "}\n",
    "\n",
    "# param_grid_svm = {\n",
    "#     'svc__C': [1, 10],             # instead of a wider range\n",
    "#     'svc__gamma': [0.1, 0.01],     # fewer values\n",
    "#     'svc__kernel': ['rbf']\n",
    "# }"
   ]
  },
  {
   "cell_type": "markdown",
   "id": "a9d2be46",
   "metadata": {},
   "source": [
    "##### 11. Implementation with Cross-Validation"
   ]
  },
  {
   "cell_type": "code",
   "execution_count": 16,
   "id": "57551403",
   "metadata": {},
   "outputs": [
    {
     "name": "stdout",
     "output_type": "stream",
     "text": [
      "Optimizing Naive Bayes...\n",
      "Fitting 5 folds for each of 3 candidates, totalling 15 fits\n",
      "Completed in 3.26s\n",
      "\n",
      "Optimizing KNN...\n",
      "Fitting 5 folds for each of 16 candidates, totalling 80 fits\n",
      "Completed in 81.93s\n",
      "\n",
      "Optimizing SVM...\n",
      "Fitting 5 folds for each of 12 candidates, totalling 60 fits\n",
      "Completed in 3690.47s\n",
      "\n",
      "Naive Bayes best params: {'gaussiannb__var_smoothing': 1e-09}\n",
      "KNN best params: {'kneighborsclassifier__n_neighbors': 9, 'kneighborsclassifier__p': 2, 'kneighborsclassifier__weights': 'uniform'}\n",
      "SVM best params: {'svc__C': 10, 'svc__gamma': 0.1, 'svc__kernel': 'rbf'}\n"
     ]
    }
   ],
   "source": [
    "from sklearn.model_selection import GridSearchCV\n",
    "from sklearn.pipeline import Pipeline\n",
    "\n",
    "# Create pipelines with preprocessing + model\n",
    "pipeline_nb = Pipeline([\n",
    "    ('preprocessor', preprocessor),\n",
    "    ('gaussiannb', GaussianNB())\n",
    "])\n",
    "\n",
    "pipeline_knn = Pipeline([\n",
    "    ('preprocessor', preprocessor),\n",
    "    ('kneighborsclassifier', KNeighborsClassifier())\n",
    "])\n",
    "\n",
    "pipeline_svm = Pipeline([\n",
    "    ('preprocessor', preprocessor),\n",
    "    ('svc', SVC(probability=True, random_state=42))\n",
    "])\n",
    "\n",
    "# GridSearchCV setup with comprehensive parameter grids\n",
    "grid_nb = GridSearchCV(\n",
    "    pipeline_nb, \n",
    "    param_grid_nb, \n",
    "    cv=5, \n",
    "    scoring='f1_weighted',\n",
    "    n_jobs=-1,\n",
    "    verbose=1\n",
    ")\n",
    "\n",
    "grid_knn = GridSearchCV(\n",
    "    pipeline_knn, \n",
    "    param_grid_knn, \n",
    "    cv=5, \n",
    "    scoring='f1_weighted',\n",
    "    n_jobs=-1,\n",
    "    verbose=1\n",
    ")\n",
    "\n",
    "grid_svm = GridSearchCV(\n",
    "    pipeline_svm, \n",
    "    param_grid_svm, \n",
    "    cv=5, \n",
    "    scoring='f1_weighted',\n",
    "    n_jobs=-1,\n",
    "    verbose=1\n",
    ")\n",
    "\n",
    "# Fit models with timing\n",
    "import time\n",
    "\n",
    "print(\"Optimizing Naive Bayes...\")\n",
    "start = time.time()\n",
    "grid_nb.fit(X_train, y_train)\n",
    "print(f\"Completed in {time.time()-start:.2f}s\\n\")\n",
    "\n",
    "print(\"Optimizing KNN...\")\n",
    "start = time.time()\n",
    "grid_knn.fit(X_train, y_train)\n",
    "print(f\"Completed in {time.time()-start:.2f}s\\n\")\n",
    "\n",
    "print(\"Optimizing SVM...\")\n",
    "start = time.time()\n",
    "grid_svm.fit(X_train, y_train)\n",
    "print(f\"Completed in {time.time()-start:.2f}s\\n\")\n",
    "\n",
    "# Display best parameters\n",
    "print(\"Naive Bayes best params:\", grid_nb.best_params_)\n",
    "print(\"KNN best params:\", grid_knn.best_params_)\n",
    "print(\"SVM best params:\", grid_svm.best_params_)"
   ]
  },
  {
   "cell_type": "markdown",
   "id": "217dd932",
   "metadata": {},
   "source": [
    "##### 12. Valuation using DecisionTree \n"
   ]
  },
  {
   "cell_type": "code",
   "execution_count": 17,
   "id": "2babaf1e",
   "metadata": {},
   "outputs": [
    {
     "name": "stdout",
     "output_type": "stream",
     "text": [
      "Optimizing Decision Tree...\n",
      "Fitting 5 folds for each of 576 candidates, totalling 2880 fits\n",
      "Completed in 106.97s\n",
      "\n",
      "=== Decision Tree Performance ===\n",
      "\n",
      "Best Parameters:\n",
      "{'decisiontreeclassifier__criterion': 'entropy', 'decisiontreeclassifier__max_depth': 7, 'decisiontreeclassifier__max_features': None, 'decisiontreeclassifier__min_samples_leaf': 2, 'decisiontreeclassifier__min_samples_split': 10}\n",
      "\n",
      "Classification Report:\n",
      "              precision    recall  f1-score   support\n",
      "\n",
      "       Alive       0.96      0.99      0.97     18532\n",
      "        Died       0.73      0.42      0.53      1468\n",
      "\n",
      "    accuracy                           0.95     20000\n",
      "   macro avg       0.84      0.70      0.75     20000\n",
      "weighted avg       0.94      0.95      0.94     20000\n",
      "\n"
     ]
    },
    {
     "data": {
      "image/png": "[encoded data removed]",
      "text/plain": [
       "<Figure size 600x600 with 2 Axes>"
      ]
     },
     "metadata": {},
     "output_type": "display_data"
    }
   ],
   "source": [
    "from sklearn.tree import DecisionTreeClassifier\n",
    "from sklearn.metrics import classification_report, confusion_matrix\n",
    "import matplotlib.pyplot as plt\n",
    "import seaborn as sns\n",
    "\n",
    "pipeline_tree = Pipeline([\n",
    "    ('preprocessor', preprocessor),\n",
    "    ('decisiontreeclassifier', DecisionTreeClassifier(random_state=42))\n",
    "])\n",
    "\n",
    "# Expanded parameter grid for more thorough search\n",
    "param_grid_tree = {\n",
    "    'decisiontreeclassifier__max_depth': [3, 5, 7, 10, 15, None],\n",
    "    'decisiontreeclassifier__min_samples_split': [2, 5, 10, 20],\n",
    "    'decisiontreeclassifier__min_samples_leaf': [1, 2, 4, 8],\n",
    "    'decisiontreeclassifier__criterion': ['gini', 'entropy'],\n",
    "    'decisiontreeclassifier__max_features': ['sqrt', 'log2', None]\n",
    "}\n",
    "\n",
    "grid_tree = GridSearchCV(\n",
    "    pipeline_tree, \n",
    "    param_grid_tree, \n",
    "    cv=5, \n",
    "    scoring='f1_weighted',\n",
    "    n_jobs=-1,\n",
    "    verbose=1\n",
    ")\n",
    "\n",
    "print(\"Optimizing Decision Tree...\")\n",
    "start = time.time()\n",
    "grid_tree.fit(X_train, y_train)\n",
    "print(f\"Completed in {time.time()-start:.2f}s\\n\")\n",
    "\n",
    "# Evaluate on test set\n",
    "y_pred_tree = grid_tree.predict(X_test)\n",
    "\n",
    "# Detailed classification report\n",
    "print(\"=== Decision Tree Performance ===\")\n",
    "print(\"\\nBest Parameters:\")\n",
    "print(grid_tree.best_params_)\n",
    "\n",
    "print(\"\\nClassification Report:\")\n",
    "print(classification_report(y_test, y_pred_tree, target_names=[\"Alive\", \"Died\"]))\n",
    "\n",
    "# Confusion matrix visualization\n",
    "cm = confusion_matrix(y_test, y_pred_tree)\n",
    "plt.figure(figsize=(6,6))\n",
    "sns.heatmap(cm, annot=True, fmt='d', cmap='Blues',\n",
    "            xticklabels=[\"Alive\", \"Died\"],\n",
    "            yticklabels=[\"Alive\", \"Died\"])\n",
    "plt.title(\"Decision Tree Confusion Matrix\")\n",
    "plt.ylabel('True Label')\n",
    "plt.xlabel('Predicted Label')\n",
    "plt.show()"
   ]
  },
  {
   "cell_type": "markdown",
   "id": "ba1d7bf9",
   "metadata": {},
   "source": [
    "##### 13. Benchmark Models with Feature Importance Analysis\n"
   ]
  },
  {
   "cell_type": "code",
   "execution_count": 24,
   "id": "d1302aaa",
   "metadata": {},
   "outputs": [
    {
     "name": "stdout",
     "output_type": "stream",
     "text": [
      "\n",
      "=== Model Performance Comparison ===\n"
     ]
    },
    {
     "data": {
      "text/html": [
       "<style type=\"text/css\">\n",
       "#T_c6bdd_row0_col3, #T_c6bdd_row0_col4 {\n",
       "  background-color: #08306b;\n",
       "  color: #f1f1f1;\n",
       "}\n",
       "#T_c6bdd_row1_col3 {\n",
       "  background-color: #084a91;\n",
       "  color: #f1f1f1;\n",
       "}\n",
       "#T_c6bdd_row1_col4 {\n",
       "  background-color: #084990;\n",
       "  color: #f1f1f1;\n",
       "}\n",
       "#T_c6bdd_row2_col3 {\n",
       "  background-color: #08509b;\n",
       "  color: #f1f1f1;\n",
       "}\n",
       "#T_c6bdd_row2_col4 {\n",
       "  background-color: #083370;\n",
       "  color: #f1f1f1;\n",
       "}\n",
       "#T_c6bdd_row3_col3, #T_c6bdd_row3_col4 {\n",
       "  background-color: #f7fbff;\n",
       "  color: #000000;\n",
       "}\n",
       "</style>\n",
       "<table id=\"T_c6bdd\">\n",
       "  <thead>\n",
       "    <tr>\n",
       "      <th class=\"blank level0\" >&nbsp;</th>\n",
       "      <th id=\"T_c6bdd_level0_col0\" class=\"col_heading level0 col0\" >Model</th>\n",
       "      <th id=\"T_c6bdd_level0_col1\" class=\"col_heading level0 col1\" >Best Params</th>\n",
       "      <th id=\"T_c6bdd_level0_col2\" class=\"col_heading level0 col2\" >Train F1</th>\n",
       "      <th id=\"T_c6bdd_level0_col3\" class=\"col_heading level0 col3\" >Test F1</th>\n",
       "      <th id=\"T_c6bdd_level0_col4\" class=\"col_heading level0 col4\" >Test Accuracy</th>\n",
       "      <th id=\"T_c6bdd_level0_col5\" class=\"col_heading level0 col5\" >Test Precision</th>\n",
       "      <th id=\"T_c6bdd_level0_col6\" class=\"col_heading level0 col6\" >Test Recall</th>\n",
       "    </tr>\n",
       "  </thead>\n",
       "  <tbody>\n",
       "    <tr>\n",
       "      <th id=\"T_c6bdd_level0_row0\" class=\"row_heading level0 row0\" >3</th>\n",
       "      <td id=\"T_c6bdd_row0_col0\" class=\"data row0 col0\" >Decision Tree</td>\n",
       "      <td id=\"T_c6bdd_row0_col1\" class=\"data row0 col1\" >{'decisiontreeclassifier__criterion': 'entropy', 'decisiontreeclassifier__max_depth': 7, 'decisiontreeclassifier__max_features': None, 'decisiontreeclassifier__min_samples_leaf': 2, 'decisiontreeclassifier__min_samples_split': 10}</td>\n",
       "      <td id=\"T_c6bdd_row0_col2\" class=\"data row0 col2\" >0.938710</td>\n",
       "      <td id=\"T_c6bdd_row0_col3\" class=\"data row0 col3\" >0.939315</td>\n",
       "      <td id=\"T_c6bdd_row0_col4\" class=\"data row0 col4\" >0.946050</td>\n",
       "      <td id=\"T_c6bdd_row0_col5\" class=\"data row0 col5\" >0.939042</td>\n",
       "      <td id=\"T_c6bdd_row0_col6\" class=\"data row0 col6\" >0.946050</td>\n",
       "    </tr>\n",
       "    <tr>\n",
       "      <th id=\"T_c6bdd_level0_row1\" class=\"row_heading level0 row1\" >1</th>\n",
       "      <td id=\"T_c6bdd_row1_col0\" class=\"data row1 col0\" >KNN</td>\n",
       "      <td id=\"T_c6bdd_row1_col1\" class=\"data row1 col1\" >{'kneighborsclassifier__n_neighbors': 9, 'kneighborsclassifier__p': 2, 'kneighborsclassifier__weights': 'uniform'}</td>\n",
       "      <td id=\"T_c6bdd_row1_col2\" class=\"data row1 col2\" >0.937007</td>\n",
       "      <td id=\"T_c6bdd_row1_col3\" class=\"data row1 col3\" >0.936615</td>\n",
       "      <td id=\"T_c6bdd_row1_col4\" class=\"data row1 col4\" >0.941700</td>\n",
       "      <td id=\"T_c6bdd_row1_col5\" class=\"data row1 col5\" >0.934607</td>\n",
       "      <td id=\"T_c6bdd_row1_col6\" class=\"data row1 col6\" >0.941700</td>\n",
       "    </tr>\n",
       "    <tr>\n",
       "      <th id=\"T_c6bdd_level0_row2\" class=\"row_heading level0 row2\" >2</th>\n",
       "      <td id=\"T_c6bdd_row2_col0\" class=\"data row2 col0\" >SVM</td>\n",
       "      <td id=\"T_c6bdd_row2_col1\" class=\"data row2 col1\" >{'svc__C': 10, 'svc__gamma': 0.1, 'svc__kernel': 'rbf'}</td>\n",
       "      <td id=\"T_c6bdd_row2_col2\" class=\"data row2 col2\" >0.937812</td>\n",
       "      <td id=\"T_c6bdd_row2_col3\" class=\"data row2 col3\" >0.935978</td>\n",
       "      <td id=\"T_c6bdd_row2_col4\" class=\"data row2 col4\" >0.945350</td>\n",
       "      <td id=\"T_c6bdd_row2_col5\" class=\"data row2 col5\" >0.938392</td>\n",
       "      <td id=\"T_c6bdd_row2_col6\" class=\"data row2 col6\" >0.945350</td>\n",
       "    </tr>\n",
       "    <tr>\n",
       "      <th id=\"T_c6bdd_level0_row3\" class=\"row_heading level0 row3\" >0</th>\n",
       "      <td id=\"T_c6bdd_row3_col0\" class=\"data row3 col0\" >Naive Bayes</td>\n",
       "      <td id=\"T_c6bdd_row3_col1\" class=\"data row3 col1\" >{'gaussiannb__var_smoothing': 1e-09}</td>\n",
       "      <td id=\"T_c6bdd_row3_col2\" class=\"data row3 col2\" >0.911047</td>\n",
       "      <td id=\"T_c6bdd_row3_col3\" class=\"data row3 col3\" >0.912242</td>\n",
       "      <td id=\"T_c6bdd_row3_col4\" class=\"data row3 col4\" >0.899950</td>\n",
       "      <td id=\"T_c6bdd_row3_col5\" class=\"data row3 col5\" >0.932441</td>\n",
       "      <td id=\"T_c6bdd_row3_col6\" class=\"data row3 col6\" >0.899950</td>\n",
       "    </tr>\n",
       "  </tbody>\n",
       "</table>\n"
      ],
      "text/plain": [
       "<pandas.io.formats.style.Styler at 0x1d1229ebc10>"
      ]
     },
     "metadata": {},
     "output_type": "display_data"
    },
    {
     "name": "stdout",
     "output_type": "stream",
     "text": [
      "Warning: Feature count mismatch (19 vs 18)\n"
     ]
    },
    {
     "name": "stderr",
     "output_type": "stream",
     "text": [
      "C:\\Users\\tor\\AppData\\Local\\Temp\\ipykernel_21396\\3649861371.py:59: FutureWarning: \n",
      "\n",
      "Passing `palette` without assigning `hue` is deprecated and will be removed in v0.14.0. Assign the `y` variable to `hue` and set `legend=False` for the same effect.\n",
      "\n",
      "  sns.barplot(x='Importance', y='Feature', data=importance_df.head(10), palette='viridis')\n"
     ]
    },
    {
     "data": {
      "image/png": "[encoded data removed]",
      "text/plain": [
       "<Figure size 1200x600 with 1 Axes>"
      ]
     },
     "metadata": {},
     "output_type": "display_data"
    },
    {
     "name": "stdout",
     "output_type": "stream",
     "text": [
      "\n",
      "=== Key Findings from Feature Importance ===\n",
      "1. PATIENT_TYPE (hospitalization status) is the strongest predictor\n",
      "2. AGE is the second most important factor\n",
      "3. INTUBED (ventilator use) and PNEUMONIA are critical clinical indicators\n",
      "4. Other chronic conditions show relatively small but meaningful impact\n",
      "\n",
      "=== Complete Feature Importance ===\n"
     ]
    },
    {
     "data": {
      "text/html": [
       "<style type=\"text/css\">\n",
       "#T_4bfe9_row0_col1 {\n",
       "  background-color: #08306b;\n",
       "  color: #f1f1f1;\n",
       "}\n",
       "#T_4bfe9_row1_col1, #T_4bfe9_row2_col1 {\n",
       "  background-color: #d8e7f5;\n",
       "  color: #000000;\n",
       "}\n",
       "#T_4bfe9_row3_col1 {\n",
       "  background-color: #e4eff9;\n",
       "  color: #000000;\n",
       "}\n",
       "#T_4bfe9_row4_col1 {\n",
       "  background-color: #eff6fc;\n",
       "  color: #000000;\n",
       "}\n",
       "#T_4bfe9_row5_col1, #T_4bfe9_row6_col1, #T_4bfe9_row7_col1 {\n",
       "  background-color: #f6faff;\n",
       "  color: #000000;\n",
       "}\n",
       "#T_4bfe9_row8_col1, #T_4bfe9_row9_col1, #T_4bfe9_row10_col1, #T_4bfe9_row11_col1, #T_4bfe9_row12_col1, #T_4bfe9_row13_col1, #T_4bfe9_row14_col1, #T_4bfe9_row15_col1, #T_4bfe9_row16_col1, #T_4bfe9_row17_col1 {\n",
       "  background-color: #f7fbff;\n",
       "  color: #000000;\n",
       "}\n",
       "</style>\n",
       "<table id=\"T_4bfe9\">\n",
       "  <thead>\n",
       "    <tr>\n",
       "      <th class=\"blank level0\" >&nbsp;</th>\n",
       "      <th id=\"T_4bfe9_level0_col0\" class=\"col_heading level0 col0\" >Feature</th>\n",
       "      <th id=\"T_4bfe9_level0_col1\" class=\"col_heading level0 col1\" >Importance</th>\n",
       "    </tr>\n",
       "  </thead>\n",
       "  <tbody>\n",
       "    <tr>\n",
       "      <th id=\"T_4bfe9_level0_row0\" class=\"row_heading level0 row0\" >4</th>\n",
       "      <td id=\"T_4bfe9_row0_col0\" class=\"data row0 col0\" >PATIENT_TYPE</td>\n",
       "      <td id=\"T_4bfe9_row0_col1\" class=\"data row0 col1\" >0.677682</td>\n",
       "    </tr>\n",
       "    <tr>\n",
       "      <th id=\"T_4bfe9_level0_row1\" class=\"row_heading level0 row1\" >0</th>\n",
       "      <td id=\"T_4bfe9_row1_col0\" class=\"data row1 col0\" >AGE</td>\n",
       "      <td id=\"T_4bfe9_row1_col1\" class=\"data row1 col1\" >0.107287</td>\n",
       "    </tr>\n",
       "    <tr>\n",
       "      <th id=\"T_4bfe9_level0_row2\" class=\"row_heading level0 row2\" >5</th>\n",
       "      <td id=\"T_4bfe9_row2_col0\" class=\"data row2 col0\" >INTUBED</td>\n",
       "      <td id=\"T_4bfe9_row2_col1\" class=\"data row2 col1\" >0.106017</td>\n",
       "    </tr>\n",
       "    <tr>\n",
       "      <th id=\"T_4bfe9_level0_row3\" class=\"row_heading level0 row3\" >6</th>\n",
       "      <td id=\"T_4bfe9_row3_col0\" class=\"data row3 col0\" >PNEUMONIA</td>\n",
       "      <td id=\"T_4bfe9_row3_col1\" class=\"data row3 col1\" >0.066012</td>\n",
       "    </tr>\n",
       "    <tr>\n",
       "      <th id=\"T_4bfe9_level0_row4\" class=\"row_heading level0 row4\" >2</th>\n",
       "      <td id=\"T_4bfe9_row4_col0\" class=\"data row4 col0\" >MEDICAL_UNIT</td>\n",
       "      <td id=\"T_4bfe9_row4_col1\" class=\"data row4 col1\" >0.026477</td>\n",
       "    </tr>\n",
       "    <tr>\n",
       "      <th id=\"T_4bfe9_level0_row5\" class=\"row_heading level0 row5\" >3</th>\n",
       "      <td id=\"T_4bfe9_row5_col0\" class=\"data row5 col0\" >SEX</td>\n",
       "      <td id=\"T_4bfe9_row5_col1\" class=\"data row5 col1\" >0.003967</td>\n",
       "    </tr>\n",
       "    <tr>\n",
       "      <th id=\"T_4bfe9_level0_row6\" class=\"row_heading level0 row6\" >7</th>\n",
       "      <td id=\"T_4bfe9_row6_col0\" class=\"data row6 col0\" >DIABETES</td>\n",
       "      <td id=\"T_4bfe9_row6_col1\" class=\"data row6 col1\" >0.003248</td>\n",
       "    </tr>\n",
       "    <tr>\n",
       "      <th id=\"T_4bfe9_level0_row7\" class=\"row_heading level0 row7\" >17</th>\n",
       "      <td id=\"T_4bfe9_row7_col0\" class=\"data row7 col0\" >ICU</td>\n",
       "      <td id=\"T_4bfe9_row7_col1\" class=\"data row7 col1\" >0.003141</td>\n",
       "    </tr>\n",
       "    <tr>\n",
       "      <th id=\"T_4bfe9_level0_row8\" class=\"row_heading level0 row8\" >15</th>\n",
       "      <td id=\"T_4bfe9_row8_col0\" class=\"data row8 col0\" >RENAL_CHRONIC</td>\n",
       "      <td id=\"T_4bfe9_row8_col1\" class=\"data row8 col1\" >0.002150</td>\n",
       "    </tr>\n",
       "    <tr>\n",
       "      <th id=\"T_4bfe9_level0_row9\" class=\"row_heading level0 row9\" >11</th>\n",
       "      <td id=\"T_4bfe9_row9_col0\" class=\"data row9 col0\" >HYPERTENSION</td>\n",
       "      <td id=\"T_4bfe9_row9_col1\" class=\"data row9 col1\" >0.001654</td>\n",
       "    </tr>\n",
       "    <tr>\n",
       "      <th id=\"T_4bfe9_level0_row10\" class=\"row_heading level0 row10\" >14</th>\n",
       "      <td id=\"T_4bfe9_row10_col0\" class=\"data row10 col0\" >OBESITY</td>\n",
       "      <td id=\"T_4bfe9_row10_col1\" class=\"data row10 col1\" >0.000939</td>\n",
       "    </tr>\n",
       "    <tr>\n",
       "      <th id=\"T_4bfe9_level0_row11\" class=\"row_heading level0 row11\" >9</th>\n",
       "      <td id=\"T_4bfe9_row11_col0\" class=\"data row11 col0\" >ASTHMA</td>\n",
       "      <td id=\"T_4bfe9_row11_col1\" class=\"data row11 col1\" >0.000500</td>\n",
       "    </tr>\n",
       "    <tr>\n",
       "      <th id=\"T_4bfe9_level0_row12\" class=\"row_heading level0 row12\" >1</th>\n",
       "      <td id=\"T_4bfe9_row12_col0\" class=\"data row12 col0\" >USMER</td>\n",
       "      <td id=\"T_4bfe9_row12_col1\" class=\"data row12 col1\" >0.000467</td>\n",
       "    </tr>\n",
       "    <tr>\n",
       "      <th id=\"T_4bfe9_level0_row13\" class=\"row_heading level0 row13\" >16</th>\n",
       "      <td id=\"T_4bfe9_row13_col0\" class=\"data row13 col0\" >TOBACCO</td>\n",
       "      <td id=\"T_4bfe9_row13_col1\" class=\"data row13 col1\" >0.000133</td>\n",
       "    </tr>\n",
       "    <tr>\n",
       "      <th id=\"T_4bfe9_level0_row14\" class=\"row_heading level0 row14\" >10</th>\n",
       "      <td id=\"T_4bfe9_row14_col0\" class=\"data row14 col0\" >INMSUPR</td>\n",
       "      <td id=\"T_4bfe9_row14_col1\" class=\"data row14 col1\" >0.000132</td>\n",
       "    </tr>\n",
       "    <tr>\n",
       "      <th id=\"T_4bfe9_level0_row15\" class=\"row_heading level0 row15\" >12</th>\n",
       "      <td id=\"T_4bfe9_row15_col0\" class=\"data row15 col0\" >OTHER_DISEASE</td>\n",
       "      <td id=\"T_4bfe9_row15_col1\" class=\"data row15 col1\" >0.000099</td>\n",
       "    </tr>\n",
       "    <tr>\n",
       "      <th id=\"T_4bfe9_level0_row16\" class=\"row_heading level0 row16\" >13</th>\n",
       "      <td id=\"T_4bfe9_row16_col0\" class=\"data row16 col0\" >CARDIOVASCULAR</td>\n",
       "      <td id=\"T_4bfe9_row16_col1\" class=\"data row16 col1\" >0.000093</td>\n",
       "    </tr>\n",
       "    <tr>\n",
       "      <th id=\"T_4bfe9_level0_row17\" class=\"row_heading level0 row17\" >8</th>\n",
       "      <td id=\"T_4bfe9_row17_col0\" class=\"data row17 col0\" >COPD</td>\n",
       "      <td id=\"T_4bfe9_row17_col1\" class=\"data row17 col1\" >0.000000</td>\n",
       "    </tr>\n",
       "  </tbody>\n",
       "</table>\n"
      ],
      "text/plain": [
       "<pandas.io.formats.style.Styler at 0x1d138fb0ed0>"
      ]
     },
     "metadata": {},
     "output_type": "display_data"
    },
    {
     "data": {
      "image/png": "[encoded data removed]",
      "text/plain": [
       "<Figure size 600x600 with 2 Axes>"
      ]
     },
     "metadata": {},
     "output_type": "display_data"
    },
    {
     "name": "stdout",
     "output_type": "stream",
     "text": [
      "\n",
      "=== Best Performing Model: Decision Tree ===\n",
      "Considerations for model selection:\n",
      "- Clinical interpretability of decision trees\n",
      "- Importance of understanding feature relationships\n",
      "- Good balance between performance and complexity\n"
     ]
    }
   ],
   "source": [
    "\n",
    "\n",
    "from sklearn.metrics import f1_score\n",
    "import pandas as pd\n",
    "import matplotlib.pyplot as plt\n",
    "import seaborn as sns\n",
    "\n",
    "# 1. Model Evaluation Function\n",
    "def evaluate_model(grid, name, X_test, y_test):\n",
    "    y_pred = grid.predict(X_test)\n",
    "    report = classification_report(y_test, y_pred, output_dict=True)\n",
    "    return {\n",
    "        'Model': name,\n",
    "        'Best Params': str(grid.best_params_),\n",
    "        'Train F1': grid.best_score_,\n",
    "        'Test F1': f1_score(y_test, y_pred, average='weighted'),\n",
    "        'Test Accuracy': report['accuracy'],\n",
    "        'Test Precision': report['weighted avg']['precision'],\n",
    "        'Test Recall': report['weighted avg']['recall']\n",
    "    }\n",
    "\n",
    "# 2. Evaluate All Models\n",
    "results = [\n",
    "    evaluate_model(grid_nb, \"Naive Bayes\", X_test, y_test),\n",
    "    evaluate_model(grid_knn, \"KNN\", X_test, y_test),\n",
    "    evaluate_model(grid_svm, \"SVM\", X_test, y_test),\n",
    "    evaluate_model(grid_tree, \"Decision Tree\", X_test, y_test)\n",
    "]\n",
    "\n",
    "# 3. Results Comparison\n",
    "results_df = pd.DataFrame(results).sort_values('Test F1', ascending=False)\n",
    "print(\"\\n=== Model Performance Comparison ===\")\n",
    "display(results_df.style.background_gradient(cmap='Blues', subset=['Test F1', 'Test Accuracy']))\n",
    "\n",
    "# 4. Feature Importance Analysis (for Tree-based Models)\n",
    "if 'Decision Tree' in results_df['Model'].values:\n",
    "    # Get the trained model and preprocessor\n",
    "    best_tree = grid_tree.best_estimator_.named_steps['decisiontreeclassifier']\n",
    "    \n",
    "    # Get original feature names (before any transformations)\n",
    "    feature_names = X_train.columns.tolist()\n",
    "    \n",
    "    # Verify lengths match\n",
    "    if len(feature_names) != len(best_tree.feature_importances_):\n",
    "        print(f\"Warning: Feature count mismatch ({len(feature_names)} vs {len(best_tree.feature_importances_)})\")\n",
    "        feature_names = [f'feature_{i}' for i in range(len(best_tree.feature_importances_))]\n",
    "\n",
    "    # Extract feature names after preprocessing\n",
    "    num_features = numeric_features  # list of numerical feature names\n",
    "    cat_features = categorical_features  # use the original categorical feature names\n",
    "    feature_names = list(num_features) + list(cat_features)\n",
    "    \n",
    "    # Create importance DataFrame\n",
    "    importance_df = pd.DataFrame({\n",
    "        'Feature': feature_names,\n",
    "        'Importance': best_tree.feature_importances_\n",
    "    }).sort_values('Importance', ascending=False)\n",
    "    \n",
    "    # Visualize top 10 features\n",
    "    plt.figure(figsize=(12, 6))\n",
    "    sns.barplot(x='Importance', y='Feature', data=importance_df.head(10), palette='viridis')\n",
    "    plt.title('Top 10 Predictive Features for Mortality', fontsize=14)\n",
    "    plt.xlabel('Relative Importance', fontsize=12)\n",
    "    plt.ylabel('Feature', fontsize=12)\n",
    "    plt.tight_layout()\n",
    "    plt.show()\n",
    "    \n",
    "    # Interpretation of Key Features\n",
    "    print(\"\\n=== Key Findings from Feature Importance ===\")\n",
    "    print(\"1. PATIENT_TYPE (hospitalization status) is the strongest predictor\")\n",
    "    print(\"2. AGE is the second most important factor\")\n",
    "    print(\"3. INTUBED (ventilator use) and PNEUMONIA are critical clinical indicators\")\n",
    "    print(\"4. Other chronic conditions show relatively small but meaningful impact\")\n",
    "    \n",
    "    # Display full importance table\n",
    "    print(\"\\n=== Complete Feature Importance ===\")\n",
    "    display(importance_df.style.background_gradient(cmap='Blues', subset=['Importance']))\n",
    "\n",
    "# 5. Confusion Matrix for Best Model\n",
    "best_model_name = results_df.iloc[0]['Model']\n",
    "best_model = {\n",
    "    \"Naive Bayes\": grid_nb,\n",
    "    \"KNN\": grid_knn,\n",
    "    \"SVM\": grid_svm,\n",
    "    \"Decision Tree\": grid_tree\n",
    "}[best_model_name]\n",
    "\n",
    "y_pred = best_model.predict(X_test)\n",
    "cm = confusion_matrix(y_test, y_pred)\n",
    "\n",
    "plt.figure(figsize=(6, 6))\n",
    "sns.heatmap(cm, annot=True, fmt='d', cmap='Reds',\n",
    "            xticklabels=['Survived', 'Died'],\n",
    "            yticklabels=['Survived', 'Died'])\n",
    "plt.title(f'{best_model_name} - Confusion Matrix', fontsize=14)\n",
    "plt.ylabel('Actual', fontsize=12)\n",
    "plt.xlabel('Predicted', fontsize=12)\n",
    "plt.show()\n",
    "\n",
    "# 6. Final Model Selection\n",
    "print(f\"\\n=== Best Performing Model: {best_model_name} ===\")\n",
    "print(\"Considerations for model selection:\")\n",
    "print(\"- Clinical interpretability of decision trees\")\n",
    "print(\"- Importance of understanding feature relationships\")\n",
    "print(\"- Good balance between performance and complexity\")"
   ]
  }
 ],
 "metadata": {
  "kernelspec": {
   "display_name": "Python 3",
   "language": "python",
   "name": "python3"
  },
  "language_info": {
   "codemirror_mode": {
    "name": "ipython",
    "version": 3
   },
   "file_extension": ".py",
   "mimetype": "text/x-python",
   "name": "python",
   "nbconvert_exporter": "python",
   "pygments_lexer": "ipython3",
   "version": "3.11.0"
  }
 },
 "nbformat": 4,
 "nbformat_minor": 5
}
